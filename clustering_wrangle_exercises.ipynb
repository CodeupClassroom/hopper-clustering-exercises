{
 "cells": [
  {
   "cell_type": "code",
   "execution_count": 5,
   "metadata": {},
   "outputs": [],
   "source": [
    "import numpy as np\n",
    "import pandas as pd\n",
    "import matplotlib.pyplot as plt\n",
    "import seaborn as sns\n",
    "\n",
    "import env\n",
    "import wrangle\n",
    "\n",
    "# ignore warnings\n",
    "import warnings\n",
    "warnings.filterwarnings(\"ignore\")\n",
    "\n",
    "from sklearn.model_selection import train_test_split\n",
    "from sklearn.preprocessing import MinMaxScaler"
   ]
  },
  {
   "cell_type": "code",
   "execution_count": 2,
   "metadata": {},
   "outputs": [],
   "source": [
    "# SQL query\n",
    "\n",
    "sql = \"\"\"\n",
    "SELECT prop.*, \n",
    "       pred.logerror, \n",
    "       pred.transactiondate, \n",
    "       air.airconditioningdesc, \n",
    "       arch.architecturalstyledesc, \n",
    "       build.buildingclassdesc, \n",
    "       heat.heatingorsystemdesc, \n",
    "       landuse.propertylandusedesc, \n",
    "       story.storydesc, \n",
    "       construct.typeconstructiondesc \n",
    "\n",
    "FROM   properties_2017 prop  \n",
    "       INNER JOIN (SELECT parcelid,\n",
    "       \t\t\t\t\t  logerror,\n",
    "                          Max(transactiondate) transactiondate \n",
    "                   FROM   predictions_2017 \n",
    "                   GROUP  BY parcelid, logerror) pred\n",
    "               USING (parcelid) \n",
    "       LEFT JOIN airconditioningtype air USING (airconditioningtypeid) \n",
    "       LEFT JOIN architecturalstyletype arch USING (architecturalstyletypeid) \n",
    "       LEFT JOIN buildingclasstype build USING (buildingclasstypeid) \n",
    "       LEFT JOIN heatingorsystemtype heat USING (heatingorsystemtypeid) \n",
    "       LEFT JOIN propertylandusetype landuse USING (propertylandusetypeid) \n",
    "       LEFT JOIN storytype story USING (storytypeid) \n",
    "       LEFT JOIN typeconstructiontype construct USING (typeconstructiontypeid) \n",
    "WHERE  prop.latitude IS NOT NULL \n",
    "       AND prop.longitude IS NOT NULL AND transactiondate <= '2017-12-31' \n",
    "\"\"\""
   ]
  },
  {
   "cell_type": "code",
   "execution_count": 3,
   "metadata": {},
   "outputs": [],
   "source": [
    "def get_db_url(database):\n",
    "    from env import host, user, password\n",
    "    url = f'mysql+pymysql://{user}:{password}@{host}/{database}'\n",
    "    return url"
   ]
  },
  {
   "cell_type": "code",
   "execution_count": 4,
   "metadata": {},
   "outputs": [],
   "source": [
    "# acquire zillow data using the query\n",
    "def get_zillow(sql):\n",
    "    url = get_db_url('zillow')\n",
    "    zillow_df = pd.read_sql(sql, url)\n",
    "    return zillow_df"
   ]
  },
  {
   "cell_type": "code",
   "execution_count": 5,
   "metadata": {},
   "outputs": [],
   "source": [
    "# get data from SQl and save as csv locally\n",
    "\n",
    "# df = get_zillow(sql)\n",
    "# df.to_csv(\"zillow.csv\")"
   ]
  },
  {
   "cell_type": "code",
   "execution_count": 4,
   "metadata": {},
   "outputs": [],
   "source": [
    "# read the previously saved csv file\n",
    "\n",
    "df = pd.read_csv(\"zillow.csv\")"
   ]
  },
  {
   "cell_type": "markdown",
   "metadata": {},
   "source": [
    "### Summarize your data (summary stats, info, dtypes, shape, distributions, value_counts, etc.)¶\n"
   ]
  },
  {
   "cell_type": "code",
   "execution_count": 6,
   "metadata": {},
   "outputs": [
    {
     "data": {
      "text/html": [
       "<div>\n",
       "<style scoped>\n",
       "    .dataframe tbody tr th:only-of-type {\n",
       "        vertical-align: middle;\n",
       "    }\n",
       "\n",
       "    .dataframe tbody tr th {\n",
       "        vertical-align: top;\n",
       "    }\n",
       "\n",
       "    .dataframe thead th {\n",
       "        text-align: right;\n",
       "    }\n",
       "</style>\n",
       "<table border=\"1\" class=\"dataframe\">\n",
       "  <thead>\n",
       "    <tr style=\"text-align: right;\">\n",
       "      <th></th>\n",
       "      <th>Unnamed: 0</th>\n",
       "      <th>id</th>\n",
       "      <th>parcelid</th>\n",
       "      <th>airconditioningtypeid</th>\n",
       "      <th>architecturalstyletypeid</th>\n",
       "      <th>basementsqft</th>\n",
       "      <th>bathroomcnt</th>\n",
       "      <th>bedroomcnt</th>\n",
       "      <th>buildingclasstypeid</th>\n",
       "      <th>buildingqualitytypeid</th>\n",
       "      <th>...</th>\n",
       "      <th>censustractandblock</th>\n",
       "      <th>logerror</th>\n",
       "      <th>transactiondate</th>\n",
       "      <th>airconditioningdesc</th>\n",
       "      <th>architecturalstyledesc</th>\n",
       "      <th>buildingclassdesc</th>\n",
       "      <th>heatingorsystemdesc</th>\n",
       "      <th>propertylandusedesc</th>\n",
       "      <th>storydesc</th>\n",
       "      <th>typeconstructiondesc</th>\n",
       "    </tr>\n",
       "  </thead>\n",
       "  <tbody>\n",
       "    <tr>\n",
       "      <th>0</th>\n",
       "      <td>0</td>\n",
       "      <td>1727539</td>\n",
       "      <td>14297519</td>\n",
       "      <td>NaN</td>\n",
       "      <td>NaN</td>\n",
       "      <td>NaN</td>\n",
       "      <td>3.5</td>\n",
       "      <td>4.0</td>\n",
       "      <td>NaN</td>\n",
       "      <td>NaN</td>\n",
       "      <td>...</td>\n",
       "      <td>6.059063e+13</td>\n",
       "      <td>0.025595</td>\n",
       "      <td>2017-01-01</td>\n",
       "      <td>NaN</td>\n",
       "      <td>NaN</td>\n",
       "      <td>NaN</td>\n",
       "      <td>NaN</td>\n",
       "      <td>Single Family Residential</td>\n",
       "      <td>NaN</td>\n",
       "      <td>NaN</td>\n",
       "    </tr>\n",
       "    <tr>\n",
       "      <th>1</th>\n",
       "      <td>1</td>\n",
       "      <td>1387261</td>\n",
       "      <td>17052889</td>\n",
       "      <td>NaN</td>\n",
       "      <td>NaN</td>\n",
       "      <td>NaN</td>\n",
       "      <td>1.0</td>\n",
       "      <td>2.0</td>\n",
       "      <td>NaN</td>\n",
       "      <td>NaN</td>\n",
       "      <td>...</td>\n",
       "      <td>6.111001e+13</td>\n",
       "      <td>0.055619</td>\n",
       "      <td>2017-01-01</td>\n",
       "      <td>NaN</td>\n",
       "      <td>NaN</td>\n",
       "      <td>NaN</td>\n",
       "      <td>NaN</td>\n",
       "      <td>Single Family Residential</td>\n",
       "      <td>NaN</td>\n",
       "      <td>NaN</td>\n",
       "    </tr>\n",
       "    <tr>\n",
       "      <th>2</th>\n",
       "      <td>2</td>\n",
       "      <td>11677</td>\n",
       "      <td>14186244</td>\n",
       "      <td>NaN</td>\n",
       "      <td>NaN</td>\n",
       "      <td>NaN</td>\n",
       "      <td>2.0</td>\n",
       "      <td>3.0</td>\n",
       "      <td>NaN</td>\n",
       "      <td>NaN</td>\n",
       "      <td>...</td>\n",
       "      <td>6.059022e+13</td>\n",
       "      <td>0.005383</td>\n",
       "      <td>2017-01-01</td>\n",
       "      <td>NaN</td>\n",
       "      <td>NaN</td>\n",
       "      <td>NaN</td>\n",
       "      <td>NaN</td>\n",
       "      <td>Single Family Residential</td>\n",
       "      <td>NaN</td>\n",
       "      <td>NaN</td>\n",
       "    </tr>\n",
       "    <tr>\n",
       "      <th>3</th>\n",
       "      <td>3</td>\n",
       "      <td>2288172</td>\n",
       "      <td>12177905</td>\n",
       "      <td>NaN</td>\n",
       "      <td>NaN</td>\n",
       "      <td>NaN</td>\n",
       "      <td>3.0</td>\n",
       "      <td>4.0</td>\n",
       "      <td>NaN</td>\n",
       "      <td>8.0</td>\n",
       "      <td>...</td>\n",
       "      <td>6.037300e+13</td>\n",
       "      <td>-0.103410</td>\n",
       "      <td>2017-01-01</td>\n",
       "      <td>NaN</td>\n",
       "      <td>NaN</td>\n",
       "      <td>NaN</td>\n",
       "      <td>Central</td>\n",
       "      <td>Single Family Residential</td>\n",
       "      <td>NaN</td>\n",
       "      <td>NaN</td>\n",
       "    </tr>\n",
       "    <tr>\n",
       "      <th>4</th>\n",
       "      <td>4</td>\n",
       "      <td>1970746</td>\n",
       "      <td>10887214</td>\n",
       "      <td>1.0</td>\n",
       "      <td>NaN</td>\n",
       "      <td>NaN</td>\n",
       "      <td>3.0</td>\n",
       "      <td>3.0</td>\n",
       "      <td>NaN</td>\n",
       "      <td>8.0</td>\n",
       "      <td>...</td>\n",
       "      <td>6.037124e+13</td>\n",
       "      <td>0.006940</td>\n",
       "      <td>2017-01-01</td>\n",
       "      <td>Central</td>\n",
       "      <td>NaN</td>\n",
       "      <td>NaN</td>\n",
       "      <td>Central</td>\n",
       "      <td>Condominium</td>\n",
       "      <td>NaN</td>\n",
       "      <td>NaN</td>\n",
       "    </tr>\n",
       "  </tbody>\n",
       "</table>\n",
       "<p>5 rows × 69 columns</p>\n",
       "</div>"
      ],
      "text/plain": [
       "   Unnamed: 0       id  parcelid  airconditioningtypeid  \\\n",
       "0           0  1727539  14297519                    NaN   \n",
       "1           1  1387261  17052889                    NaN   \n",
       "2           2    11677  14186244                    NaN   \n",
       "3           3  2288172  12177905                    NaN   \n",
       "4           4  1970746  10887214                    1.0   \n",
       "\n",
       "   architecturalstyletypeid  basementsqft  bathroomcnt  bedroomcnt  \\\n",
       "0                       NaN           NaN          3.5         4.0   \n",
       "1                       NaN           NaN          1.0         2.0   \n",
       "2                       NaN           NaN          2.0         3.0   \n",
       "3                       NaN           NaN          3.0         4.0   \n",
       "4                       NaN           NaN          3.0         3.0   \n",
       "\n",
       "   buildingclasstypeid  buildingqualitytypeid  ...  censustractandblock  \\\n",
       "0                  NaN                    NaN  ...         6.059063e+13   \n",
       "1                  NaN                    NaN  ...         6.111001e+13   \n",
       "2                  NaN                    NaN  ...         6.059022e+13   \n",
       "3                  NaN                    8.0  ...         6.037300e+13   \n",
       "4                  NaN                    8.0  ...         6.037124e+13   \n",
       "\n",
       "   logerror  transactiondate  airconditioningdesc  architecturalstyledesc  \\\n",
       "0  0.025595       2017-01-01                  NaN                     NaN   \n",
       "1  0.055619       2017-01-01                  NaN                     NaN   \n",
       "2  0.005383       2017-01-01                  NaN                     NaN   \n",
       "3 -0.103410       2017-01-01                  NaN                     NaN   \n",
       "4  0.006940       2017-01-01              Central                     NaN   \n",
       "\n",
       "   buildingclassdesc  heatingorsystemdesc        propertylandusedesc  \\\n",
       "0                NaN                  NaN  Single Family Residential   \n",
       "1                NaN                  NaN  Single Family Residential   \n",
       "2                NaN                  NaN  Single Family Residential   \n",
       "3                NaN              Central  Single Family Residential   \n",
       "4                NaN              Central                Condominium   \n",
       "\n",
       "   storydesc  typeconstructiondesc  \n",
       "0        NaN                   NaN  \n",
       "1        NaN                   NaN  \n",
       "2        NaN                   NaN  \n",
       "3        NaN                   NaN  \n",
       "4        NaN                   NaN  \n",
       "\n",
       "[5 rows x 69 columns]"
      ]
     },
     "execution_count": 6,
     "metadata": {},
     "output_type": "execute_result"
    }
   ],
   "source": [
    "df.head()"
   ]
  },
  {
   "cell_type": "code",
   "execution_count": 7,
   "metadata": {},
   "outputs": [
    {
     "data": {
      "text/plain": [
       "(77574, 69)"
      ]
     },
     "execution_count": 7,
     "metadata": {},
     "output_type": "execute_result"
    }
   ],
   "source": [
    "df.shape"
   ]
  },
  {
   "cell_type": "code",
   "execution_count": 8,
   "metadata": {},
   "outputs": [
    {
     "name": "stdout",
     "output_type": "stream",
     "text": [
      "<class 'pandas.core.frame.DataFrame'>\n",
      "RangeIndex: 77574 entries, 0 to 77573\n",
      "Data columns (total 69 columns):\n",
      " #   Column                        Non-Null Count  Dtype  \n",
      "---  ------                        --------------  -----  \n",
      " 0   Unnamed: 0                    77574 non-null  int64  \n",
      " 1   id                            77574 non-null  int64  \n",
      " 2   parcelid                      77574 non-null  int64  \n",
      " 3   airconditioningtypeid         25006 non-null  float64\n",
      " 4   architecturalstyletypeid      206 non-null    float64\n",
      " 5   basementsqft                  50 non-null     float64\n",
      " 6   bathroomcnt                   77574 non-null  float64\n",
      " 7   bedroomcnt                    77574 non-null  float64\n",
      " 8   buildingclasstypeid           15 non-null     float64\n",
      " 9   buildingqualitytypeid         49808 non-null  float64\n",
      " 10  calculatedbathnbr             76959 non-null  float64\n",
      " 11  decktypeid                    614 non-null    float64\n",
      " 12  finishedfloor1squarefeet      6035 non-null   float64\n",
      " 13  calculatedfinishedsquarefeet  77374 non-null  float64\n",
      " 14  finishedsquarefeet12          73919 non-null  float64\n",
      " 15  finishedsquarefeet13          42 non-null     float64\n",
      " 16  finishedsquarefeet15          3027 non-null   float64\n",
      " 17  finishedsquarefeet50          6035 non-null   float64\n",
      " 18  finishedsquarefeet6           386 non-null    float64\n",
      " 19  fips                          77574 non-null  float64\n",
      " 20  fireplacecnt                  8287 non-null   float64\n",
      " 21  fullbathcnt                   76959 non-null  float64\n",
      " 22  garagecarcnt                  25517 non-null  float64\n",
      " 23  garagetotalsqft               25517 non-null  float64\n",
      " 24  hashottuborspa                1539 non-null   float64\n",
      " 25  heatingorsystemtypeid         49569 non-null  float64\n",
      " 26  latitude                      77574 non-null  float64\n",
      " 27  longitude                     77574 non-null  float64\n",
      " 28  lotsizesquarefeet             69317 non-null  float64\n",
      " 29  poolcnt                       16173 non-null  float64\n",
      " 30  poolsizesum                   869 non-null    float64\n",
      " 31  pooltypeid10                  465 non-null    float64\n",
      " 32  pooltypeid2                   1074 non-null   float64\n",
      " 33  pooltypeid7                   15078 non-null  float64\n",
      " 34  propertycountylandusecode     77574 non-null  object \n",
      " 35  propertylandusetypeid         77574 non-null  float64\n",
      " 36  propertyzoningdesc            50474 non-null  object \n",
      " 37  rawcensustractandblock        77574 non-null  float64\n",
      " 38  regionidcity                  76102 non-null  float64\n",
      " 39  regionidcounty                77574 non-null  float64\n",
      " 40  regionidneighborhood          30973 non-null  float64\n",
      " 41  regionidzip                   77524 non-null  float64\n",
      " 42  roomcnt                       77574 non-null  float64\n",
      " 43  storytypeid                   50 non-null     float64\n",
      " 44  threequarterbathnbr           10105 non-null  float64\n",
      " 45  typeconstructiontypeid        222 non-null    float64\n",
      " 46  unitcnt                       50702 non-null  float64\n",
      " 47  yardbuildingsqft17            2393 non-null   float64\n",
      " 48  yardbuildingsqft26            70 non-null     float64\n",
      " 49  yearbuilt                     77305 non-null  float64\n",
      " 50  numberofstories               17596 non-null  float64\n",
      " 51  fireplaceflag                 172 non-null    float64\n",
      " 52  structuretaxvaluedollarcnt    77459 non-null  float64\n",
      " 53  taxvaluedollarcnt             77573 non-null  float64\n",
      " 54  assessmentyear                77574 non-null  float64\n",
      " 55  landtaxvaluedollarcnt         77572 non-null  float64\n",
      " 56  taxamount                     77569 non-null  float64\n",
      " 57  taxdelinquencyflag            2900 non-null   object \n",
      " 58  taxdelinquencyyear            2900 non-null   float64\n",
      " 59  censustractandblock           77327 non-null  float64\n",
      " 60  logerror                      77574 non-null  float64\n",
      " 61  transactiondate               77574 non-null  object \n",
      " 62  airconditioningdesc           25006 non-null  object \n",
      " 63  architecturalstyledesc        206 non-null    object \n",
      " 64  buildingclassdesc             15 non-null     object \n",
      " 65  heatingorsystemdesc           49569 non-null  object \n",
      " 66  propertylandusedesc           77574 non-null  object \n",
      " 67  storydesc                     50 non-null     object \n",
      " 68  typeconstructiondesc          222 non-null    object \n",
      "dtypes: float64(55), int64(3), object(11)\n",
      "memory usage: 40.8+ MB\n"
     ]
    }
   ],
   "source": [
    "df.info()"
   ]
  },
  {
   "cell_type": "code",
   "execution_count": 96,
   "metadata": {},
   "outputs": [
    {
     "data": {
      "text/plain": [
       "buildingclassdesc           77559\n",
       "buildingclasstypeid         77559\n",
       "finishedsquarefeet13        77532\n",
       "storydesc                   77524\n",
       "basementsqft                77524\n",
       "storytypeid                 77524\n",
       "yardbuildingsqft26          77504\n",
       "fireplaceflag               77402\n",
       "architecturalstyletypeid    77368\n",
       "architecturalstyledesc      77368\n",
       "typeconstructiontypeid      77352\n",
       "typeconstructiondesc        77352\n",
       "finishedsquarefeet6         77188\n",
       "pooltypeid10                77109\n",
       "decktypeid                  76960\n",
       "poolsizesum                 76705\n",
       "pooltypeid2                 76500\n",
       "hashottuborspa              76035\n",
       "yardbuildingsqft17          75181\n",
       "taxdelinquencyflag          74674\n",
       "taxdelinquencyyear          74674\n",
       "finishedsquarefeet15        74547\n",
       "finishedsquarefeet50        71539\n",
       "finishedfloor1squarefeet    71539\n",
       "fireplacecnt                69287\n",
       "threequarterbathnbr         67469\n",
       "pooltypeid7                 62496\n",
       "poolcnt                     61401\n",
       "numberofstories             59978\n",
       "airconditioningdesc         52568\n",
       "airconditioningtypeid       52568\n",
       "garagecarcnt                52057\n",
       "garagetotalsqft             52057\n",
       "regionidneighborhood        46601\n",
       "heatingorsystemdesc         28005\n",
       "heatingorsystemtypeid       28005\n",
       "buildingqualitytypeid       27766\n",
       "propertyzoningdesc          27100\n",
       "unitcnt                     26872\n",
       "lotsizesquarefeet            8257\n",
       "finishedsquarefeet12         3655\n",
       "regionidcity                 1472\n",
       "fullbathcnt                   615\n",
       "calculatedbathnbr             615\n",
       "yearbuilt                     269\n",
       "dtype: int64"
      ]
     },
     "execution_count": 96,
     "metadata": {},
     "output_type": "execute_result"
    }
   ],
   "source": [
    "# look at nulls in each columns\n",
    "\n",
    "df.isnull().sum().sort_values(ascending = False)[:45]"
   ]
  },
  {
   "cell_type": "code",
   "execution_count": 97,
   "metadata": {},
   "outputs": [
    {
     "data": {
      "image/png": "[encoded data removed]",
      "text/plain": [
       "<Figure size 864x576 with 4 Axes>"
      ]
     },
     "metadata": {
      "needs_background": "light"
     },
     "output_type": "display_data"
    }
   ],
   "source": [
    "# plot some distributions \n",
    "\n",
    "plt.figure(figsize = (12,8))\n",
    "plt.subplot(221)\n",
    "plt.hist(df.bedroomcnt, bins = 10)\n",
    "plt.title('Bedrooms')\n",
    "\n",
    "\n",
    "\n",
    "plt.subplot(222)\n",
    "plt.hist(df.calculatedfinishedsquarefeet, bins = 100)\n",
    "plt.title('finished area')\n",
    "\n",
    "\n",
    "\n",
    "plt.subplot(223)\n",
    "plt.hist(df.logerror, bins = 100)\n",
    "plt.title('logerror')\n",
    "\n",
    "\n",
    "\n",
    "plt.subplot(224)\n",
    "plt.hist(df.taxvaluedollarcnt, bins = 100)\n",
    "plt.title('taxvaluedollarcnt')\n",
    "\n",
    "plt.tight_layout();"
   ]
  },
  {
   "cell_type": "markdown",
   "metadata": {},
   "source": [
    "#### Write a function that takes in a dataframe of observations and attributes and returns a dataframe where each row is an atttribute name, the first column is the number of rows with missing values for that attribute, and the second column is percent of total rows that have missing values for that attribute. Run the function and document takeaways from this on how you want to handle missing values."
   ]
  },
  {
   "cell_type": "code",
   "execution_count": 9,
   "metadata": {
    "scrolled": true
   },
   "outputs": [
    {
     "data": {
      "text/plain": [
       "Unnamed: 0                      0\n",
       "id                              0\n",
       "parcelid                        0\n",
       "airconditioningtypeid       52568\n",
       "architecturalstyletypeid    77368\n",
       "                            ...  \n",
       "buildingclassdesc           77559\n",
       "heatingorsystemdesc         28005\n",
       "propertylandusedesc             0\n",
       "storydesc                   77524\n",
       "typeconstructiondesc        77352\n",
       "Length: 69, dtype: int64"
      ]
     },
     "execution_count": 9,
     "metadata": {},
     "output_type": "execute_result"
    }
   ],
   "source": [
    "df.isnull().sum()"
   ]
  },
  {
   "cell_type": "code",
   "execution_count": 10,
   "metadata": {},
   "outputs": [],
   "source": [
    "def nulls_by_col(df):\n",
    "    num_missing = df.isnull().sum()\n",
    "    rows = df.shape[0]\n",
    "    pct_missing = num_missing / rows\n",
    "    cols_missing = pd.DataFrame({'number_missing_rows': num_missing, 'percent_rows_missing': pct_missing})\n",
    "    return cols_missing"
   ]
  },
  {
   "cell_type": "code",
   "execution_count": 11,
   "metadata": {},
   "outputs": [
    {
     "data": {
      "text/html": [
       "<div>\n",
       "<style scoped>\n",
       "    .dataframe tbody tr th:only-of-type {\n",
       "        vertical-align: middle;\n",
       "    }\n",
       "\n",
       "    .dataframe tbody tr th {\n",
       "        vertical-align: top;\n",
       "    }\n",
       "\n",
       "    .dataframe thead th {\n",
       "        text-align: right;\n",
       "    }\n",
       "</style>\n",
       "<table border=\"1\" class=\"dataframe\">\n",
       "  <thead>\n",
       "    <tr style=\"text-align: right;\">\n",
       "      <th></th>\n",
       "      <th>number_missing_rows</th>\n",
       "      <th>percent_rows_missing</th>\n",
       "    </tr>\n",
       "  </thead>\n",
       "  <tbody>\n",
       "    <tr>\n",
       "      <th>buildingclasstypeid</th>\n",
       "      <td>77559</td>\n",
       "      <td>0.999807</td>\n",
       "    </tr>\n",
       "    <tr>\n",
       "      <th>buildingclassdesc</th>\n",
       "      <td>77559</td>\n",
       "      <td>0.999807</td>\n",
       "    </tr>\n",
       "    <tr>\n",
       "      <th>finishedsquarefeet13</th>\n",
       "      <td>77532</td>\n",
       "      <td>0.999459</td>\n",
       "    </tr>\n",
       "    <tr>\n",
       "      <th>storytypeid</th>\n",
       "      <td>77524</td>\n",
       "      <td>0.999355</td>\n",
       "    </tr>\n",
       "    <tr>\n",
       "      <th>storydesc</th>\n",
       "      <td>77524</td>\n",
       "      <td>0.999355</td>\n",
       "    </tr>\n",
       "    <tr>\n",
       "      <th>basementsqft</th>\n",
       "      <td>77524</td>\n",
       "      <td>0.999355</td>\n",
       "    </tr>\n",
       "    <tr>\n",
       "      <th>yardbuildingsqft26</th>\n",
       "      <td>77504</td>\n",
       "      <td>0.999098</td>\n",
       "    </tr>\n",
       "    <tr>\n",
       "      <th>fireplaceflag</th>\n",
       "      <td>77402</td>\n",
       "      <td>0.997783</td>\n",
       "    </tr>\n",
       "    <tr>\n",
       "      <th>architecturalstyletypeid</th>\n",
       "      <td>77368</td>\n",
       "      <td>0.997344</td>\n",
       "    </tr>\n",
       "    <tr>\n",
       "      <th>architecturalstyledesc</th>\n",
       "      <td>77368</td>\n",
       "      <td>0.997344</td>\n",
       "    </tr>\n",
       "    <tr>\n",
       "      <th>typeconstructiondesc</th>\n",
       "      <td>77352</td>\n",
       "      <td>0.997138</td>\n",
       "    </tr>\n",
       "    <tr>\n",
       "      <th>typeconstructiontypeid</th>\n",
       "      <td>77352</td>\n",
       "      <td>0.997138</td>\n",
       "    </tr>\n",
       "    <tr>\n",
       "      <th>finishedsquarefeet6</th>\n",
       "      <td>77188</td>\n",
       "      <td>0.995024</td>\n",
       "    </tr>\n",
       "    <tr>\n",
       "      <th>pooltypeid10</th>\n",
       "      <td>77109</td>\n",
       "      <td>0.994006</td>\n",
       "    </tr>\n",
       "    <tr>\n",
       "      <th>decktypeid</th>\n",
       "      <td>76960</td>\n",
       "      <td>0.992085</td>\n",
       "    </tr>\n",
       "    <tr>\n",
       "      <th>poolsizesum</th>\n",
       "      <td>76705</td>\n",
       "      <td>0.988798</td>\n",
       "    </tr>\n",
       "    <tr>\n",
       "      <th>pooltypeid2</th>\n",
       "      <td>76500</td>\n",
       "      <td>0.986155</td>\n",
       "    </tr>\n",
       "    <tr>\n",
       "      <th>hashottuborspa</th>\n",
       "      <td>76035</td>\n",
       "      <td>0.980161</td>\n",
       "    </tr>\n",
       "    <tr>\n",
       "      <th>yardbuildingsqft17</th>\n",
       "      <td>75181</td>\n",
       "      <td>0.969152</td>\n",
       "    </tr>\n",
       "    <tr>\n",
       "      <th>taxdelinquencyflag</th>\n",
       "      <td>74674</td>\n",
       "      <td>0.962616</td>\n",
       "    </tr>\n",
       "    <tr>\n",
       "      <th>taxdelinquencyyear</th>\n",
       "      <td>74674</td>\n",
       "      <td>0.962616</td>\n",
       "    </tr>\n",
       "    <tr>\n",
       "      <th>finishedsquarefeet15</th>\n",
       "      <td>74547</td>\n",
       "      <td>0.960979</td>\n",
       "    </tr>\n",
       "    <tr>\n",
       "      <th>finishedsquarefeet50</th>\n",
       "      <td>71539</td>\n",
       "      <td>0.922203</td>\n",
       "    </tr>\n",
       "    <tr>\n",
       "      <th>finishedfloor1squarefeet</th>\n",
       "      <td>71539</td>\n",
       "      <td>0.922203</td>\n",
       "    </tr>\n",
       "    <tr>\n",
       "      <th>fireplacecnt</th>\n",
       "      <td>69287</td>\n",
       "      <td>0.893173</td>\n",
       "    </tr>\n",
       "    <tr>\n",
       "      <th>threequarterbathnbr</th>\n",
       "      <td>67469</td>\n",
       "      <td>0.869737</td>\n",
       "    </tr>\n",
       "    <tr>\n",
       "      <th>pooltypeid7</th>\n",
       "      <td>62496</td>\n",
       "      <td>0.805631</td>\n",
       "    </tr>\n",
       "    <tr>\n",
       "      <th>poolcnt</th>\n",
       "      <td>61401</td>\n",
       "      <td>0.791515</td>\n",
       "    </tr>\n",
       "    <tr>\n",
       "      <th>numberofstories</th>\n",
       "      <td>59978</td>\n",
       "      <td>0.773171</td>\n",
       "    </tr>\n",
       "    <tr>\n",
       "      <th>airconditioningdesc</th>\n",
       "      <td>52568</td>\n",
       "      <td>0.677650</td>\n",
       "    </tr>\n",
       "    <tr>\n",
       "      <th>airconditioningtypeid</th>\n",
       "      <td>52568</td>\n",
       "      <td>0.677650</td>\n",
       "    </tr>\n",
       "    <tr>\n",
       "      <th>garagetotalsqft</th>\n",
       "      <td>52057</td>\n",
       "      <td>0.671062</td>\n",
       "    </tr>\n",
       "    <tr>\n",
       "      <th>garagecarcnt</th>\n",
       "      <td>52057</td>\n",
       "      <td>0.671062</td>\n",
       "    </tr>\n",
       "    <tr>\n",
       "      <th>regionidneighborhood</th>\n",
       "      <td>46601</td>\n",
       "      <td>0.600730</td>\n",
       "    </tr>\n",
       "    <tr>\n",
       "      <th>heatingorsystemtypeid</th>\n",
       "      <td>28005</td>\n",
       "      <td>0.361010</td>\n",
       "    </tr>\n",
       "    <tr>\n",
       "      <th>heatingorsystemdesc</th>\n",
       "      <td>28005</td>\n",
       "      <td>0.361010</td>\n",
       "    </tr>\n",
       "    <tr>\n",
       "      <th>buildingqualitytypeid</th>\n",
       "      <td>27766</td>\n",
       "      <td>0.357929</td>\n",
       "    </tr>\n",
       "    <tr>\n",
       "      <th>propertyzoningdesc</th>\n",
       "      <td>27100</td>\n",
       "      <td>0.349344</td>\n",
       "    </tr>\n",
       "    <tr>\n",
       "      <th>unitcnt</th>\n",
       "      <td>26872</td>\n",
       "      <td>0.346405</td>\n",
       "    </tr>\n",
       "    <tr>\n",
       "      <th>lotsizesquarefeet</th>\n",
       "      <td>8257</td>\n",
       "      <td>0.106440</td>\n",
       "    </tr>\n",
       "  </tbody>\n",
       "</table>\n",
       "</div>"
      ],
      "text/plain": [
       "                          number_missing_rows  percent_rows_missing\n",
       "buildingclasstypeid                     77559              0.999807\n",
       "buildingclassdesc                       77559              0.999807\n",
       "finishedsquarefeet13                    77532              0.999459\n",
       "storytypeid                             77524              0.999355\n",
       "storydesc                               77524              0.999355\n",
       "basementsqft                            77524              0.999355\n",
       "yardbuildingsqft26                      77504              0.999098\n",
       "fireplaceflag                           77402              0.997783\n",
       "architecturalstyletypeid                77368              0.997344\n",
       "architecturalstyledesc                  77368              0.997344\n",
       "typeconstructiondesc                    77352              0.997138\n",
       "typeconstructiontypeid                  77352              0.997138\n",
       "finishedsquarefeet6                     77188              0.995024\n",
       "pooltypeid10                            77109              0.994006\n",
       "decktypeid                              76960              0.992085\n",
       "poolsizesum                             76705              0.988798\n",
       "pooltypeid2                             76500              0.986155\n",
       "hashottuborspa                          76035              0.980161\n",
       "yardbuildingsqft17                      75181              0.969152\n",
       "taxdelinquencyflag                      74674              0.962616\n",
       "taxdelinquencyyear                      74674              0.962616\n",
       "finishedsquarefeet15                    74547              0.960979\n",
       "finishedsquarefeet50                    71539              0.922203\n",
       "finishedfloor1squarefeet                71539              0.922203\n",
       "fireplacecnt                            69287              0.893173\n",
       "threequarterbathnbr                     67469              0.869737\n",
       "pooltypeid7                             62496              0.805631\n",
       "poolcnt                                 61401              0.791515\n",
       "numberofstories                         59978              0.773171\n",
       "airconditioningdesc                     52568              0.677650\n",
       "airconditioningtypeid                   52568              0.677650\n",
       "garagetotalsqft                         52057              0.671062\n",
       "garagecarcnt                            52057              0.671062\n",
       "regionidneighborhood                    46601              0.600730\n",
       "heatingorsystemtypeid                   28005              0.361010\n",
       "heatingorsystemdesc                     28005              0.361010\n",
       "buildingqualitytypeid                   27766              0.357929\n",
       "propertyzoningdesc                      27100              0.349344\n",
       "unitcnt                                 26872              0.346405\n",
       "lotsizesquarefeet                        8257              0.106440"
      ]
     },
     "execution_count": 11,
     "metadata": {},
     "output_type": "execute_result"
    }
   ],
   "source": [
    "nulls_by_column = nulls_by_col(df)\n",
    "nulls_by_column.sort_values(by=\"percent_rows_missing\", ascending=False).head(40)"
   ]
  },
  {
   "cell_type": "markdown",
   "metadata": {},
   "source": [
    "#### Write a function that takes in a dataframe and returns a dataframe with 3 columns: the number of columns missing, percent of columns missing, and number of rows with n columns missing. Run the function and document takeaways from this on how you want to handle missing values."
   ]
  },
  {
   "cell_type": "code",
   "execution_count": 12,
   "metadata": {},
   "outputs": [
    {
     "data": {
      "text/html": [
       "<div>\n",
       "<style scoped>\n",
       "    .dataframe tbody tr th:only-of-type {\n",
       "        vertical-align: middle;\n",
       "    }\n",
       "\n",
       "    .dataframe tbody tr th {\n",
       "        vertical-align: top;\n",
       "    }\n",
       "\n",
       "    .dataframe thead th {\n",
       "        text-align: right;\n",
       "    }\n",
       "</style>\n",
       "<table border=\"1\" class=\"dataframe\">\n",
       "  <thead>\n",
       "    <tr style=\"text-align: right;\">\n",
       "      <th></th>\n",
       "      <th>index</th>\n",
       "      <th>0</th>\n",
       "    </tr>\n",
       "  </thead>\n",
       "  <tbody>\n",
       "    <tr>\n",
       "      <th>0</th>\n",
       "      <td>33</td>\n",
       "      <td>14817</td>\n",
       "    </tr>\n",
       "    <tr>\n",
       "      <th>1</th>\n",
       "      <td>34</td>\n",
       "      <td>13356</td>\n",
       "    </tr>\n",
       "    <tr>\n",
       "      <th>2</th>\n",
       "      <td>32</td>\n",
       "      <td>12606</td>\n",
       "    </tr>\n",
       "    <tr>\n",
       "      <th>3</th>\n",
       "      <td>31</td>\n",
       "      <td>9911</td>\n",
       "    </tr>\n",
       "    <tr>\n",
       "      <th>4</th>\n",
       "      <td>36</td>\n",
       "      <td>5793</td>\n",
       "    </tr>\n",
       "    <tr>\n",
       "      <th>5</th>\n",
       "      <td>29</td>\n",
       "      <td>5285</td>\n",
       "    </tr>\n",
       "    <tr>\n",
       "      <th>6</th>\n",
       "      <td>35</td>\n",
       "      <td>5163</td>\n",
       "    </tr>\n",
       "    <tr>\n",
       "      <th>7</th>\n",
       "      <td>37</td>\n",
       "      <td>3630</td>\n",
       "    </tr>\n",
       "    <tr>\n",
       "      <th>8</th>\n",
       "      <td>30</td>\n",
       "      <td>3465</td>\n",
       "    </tr>\n",
       "    <tr>\n",
       "      <th>9</th>\n",
       "      <td>38</td>\n",
       "      <td>1932</td>\n",
       "    </tr>\n",
       "    <tr>\n",
       "      <th>10</th>\n",
       "      <td>28</td>\n",
       "      <td>457</td>\n",
       "    </tr>\n",
       "    <tr>\n",
       "      <th>11</th>\n",
       "      <td>27</td>\n",
       "      <td>316</td>\n",
       "    </tr>\n",
       "    <tr>\n",
       "      <th>12</th>\n",
       "      <td>39</td>\n",
       "      <td>285</td>\n",
       "    </tr>\n",
       "    <tr>\n",
       "      <th>13</th>\n",
       "      <td>40</td>\n",
       "      <td>230</td>\n",
       "    </tr>\n",
       "    <tr>\n",
       "      <th>14</th>\n",
       "      <td>44</td>\n",
       "      <td>79</td>\n",
       "    </tr>\n",
       "    <tr>\n",
       "      <th>15</th>\n",
       "      <td>26</td>\n",
       "      <td>65</td>\n",
       "    </tr>\n",
       "    <tr>\n",
       "      <th>16</th>\n",
       "      <td>45</td>\n",
       "      <td>50</td>\n",
       "    </tr>\n",
       "    <tr>\n",
       "      <th>17</th>\n",
       "      <td>41</td>\n",
       "      <td>29</td>\n",
       "    </tr>\n",
       "    <tr>\n",
       "      <th>18</th>\n",
       "      <td>43</td>\n",
       "      <td>29</td>\n",
       "    </tr>\n",
       "    <tr>\n",
       "      <th>19</th>\n",
       "      <td>42</td>\n",
       "      <td>26</td>\n",
       "    </tr>\n",
       "    <tr>\n",
       "      <th>20</th>\n",
       "      <td>25</td>\n",
       "      <td>24</td>\n",
       "    </tr>\n",
       "    <tr>\n",
       "      <th>21</th>\n",
       "      <td>24</td>\n",
       "      <td>13</td>\n",
       "    </tr>\n",
       "    <tr>\n",
       "      <th>22</th>\n",
       "      <td>46</td>\n",
       "      <td>5</td>\n",
       "    </tr>\n",
       "    <tr>\n",
       "      <th>23</th>\n",
       "      <td>48</td>\n",
       "      <td>3</td>\n",
       "    </tr>\n",
       "    <tr>\n",
       "      <th>24</th>\n",
       "      <td>47</td>\n",
       "      <td>3</td>\n",
       "    </tr>\n",
       "    <tr>\n",
       "      <th>25</th>\n",
       "      <td>23</td>\n",
       "      <td>2</td>\n",
       "    </tr>\n",
       "  </tbody>\n",
       "</table>\n",
       "</div>"
      ],
      "text/plain": [
       "    index      0\n",
       "0      33  14817\n",
       "1      34  13356\n",
       "2      32  12606\n",
       "3      31   9911\n",
       "4      36   5793\n",
       "5      29   5285\n",
       "6      35   5163\n",
       "7      37   3630\n",
       "8      30   3465\n",
       "9      38   1932\n",
       "10     28    457\n",
       "11     27    316\n",
       "12     39    285\n",
       "13     40    230\n",
       "14     44     79\n",
       "15     26     65\n",
       "16     45     50\n",
       "17     41     29\n",
       "18     43     29\n",
       "19     42     26\n",
       "20     25     24\n",
       "21     24     13\n",
       "22     46      5\n",
       "23     48      3\n",
       "24     47      3\n",
       "25     23      2"
      ]
     },
     "execution_count": 12,
     "metadata": {},
     "output_type": "execute_result"
    }
   ],
   "source": [
    "pd.DataFrame(df.isnull().sum(axis =1).value_counts()).reset_index()"
   ]
  },
  {
   "cell_type": "code",
   "execution_count": 13,
   "metadata": {},
   "outputs": [
    {
     "data": {
      "text/html": [
       "<div>\n",
       "<style scoped>\n",
       "    .dataframe tbody tr th:only-of-type {\n",
       "        vertical-align: middle;\n",
       "    }\n",
       "\n",
       "    .dataframe tbody tr th {\n",
       "        vertical-align: top;\n",
       "    }\n",
       "\n",
       "    .dataframe thead th {\n",
       "        text-align: right;\n",
       "    }\n",
       "</style>\n",
       "<table border=\"1\" class=\"dataframe\">\n",
       "  <thead>\n",
       "    <tr style=\"text-align: right;\">\n",
       "      <th></th>\n",
       "      <th>num_cols_missing</th>\n",
       "      <th>num_rows</th>\n",
       "      <th>pct_cols_missing</th>\n",
       "    </tr>\n",
       "  </thead>\n",
       "  <tbody>\n",
       "    <tr>\n",
       "      <th>0</th>\n",
       "      <td>23</td>\n",
       "      <td>2</td>\n",
       "      <td>0.333333</td>\n",
       "    </tr>\n",
       "    <tr>\n",
       "      <th>1</th>\n",
       "      <td>24</td>\n",
       "      <td>13</td>\n",
       "      <td>0.347826</td>\n",
       "    </tr>\n",
       "    <tr>\n",
       "      <th>2</th>\n",
       "      <td>25</td>\n",
       "      <td>24</td>\n",
       "      <td>0.362319</td>\n",
       "    </tr>\n",
       "    <tr>\n",
       "      <th>3</th>\n",
       "      <td>26</td>\n",
       "      <td>65</td>\n",
       "      <td>0.376812</td>\n",
       "    </tr>\n",
       "    <tr>\n",
       "      <th>4</th>\n",
       "      <td>27</td>\n",
       "      <td>316</td>\n",
       "      <td>0.391304</td>\n",
       "    </tr>\n",
       "  </tbody>\n",
       "</table>\n",
       "</div>"
      ],
      "text/plain": [
       "   num_cols_missing  num_rows  pct_cols_missing\n",
       "0                23         2          0.333333\n",
       "1                24        13          0.347826\n",
       "2                25        24          0.362319\n",
       "3                26        65          0.376812\n",
       "4                27       316          0.391304"
      ]
     },
     "execution_count": 13,
     "metadata": {},
     "output_type": "execute_result"
    }
   ],
   "source": [
    "df2 = pd.DataFrame(df.isnull().sum(axis =1), columns = ['num_cols_missing']).reset_index().groupby('num_cols_missing')\\\n",
    ".count().reset_index().rename(columns = {'index': 'num_rows'})\n",
    "\n",
    "df2['pct_cols_missing'] = df2.num_cols_missing/df.shape[1]\n",
    "df2.head()"
   ]
  },
  {
   "cell_type": "code",
   "execution_count": 14,
   "metadata": {},
   "outputs": [],
   "source": [
    "def cols_missing(df):\n",
    "    df2 = pd.DataFrame(df.isnull().sum(axis =1), columns = ['num_cols_missing']).reset_index()\\\n",
    "    .groupby('num_cols_missing').count().reset_index().\\\n",
    "    rename(columns = {'index': 'num_rows' })\n",
    "    df2['pct_cols_missing'] = df2.num_cols_missing/df.shape[1]\n",
    "    return df2"
   ]
  },
  {
   "cell_type": "code",
   "execution_count": 15,
   "metadata": {},
   "outputs": [
    {
     "data": {
      "text/html": [
       "<div>\n",
       "<style scoped>\n",
       "    .dataframe tbody tr th:only-of-type {\n",
       "        vertical-align: middle;\n",
       "    }\n",
       "\n",
       "    .dataframe tbody tr th {\n",
       "        vertical-align: top;\n",
       "    }\n",
       "\n",
       "    .dataframe thead th {\n",
       "        text-align: right;\n",
       "    }\n",
       "</style>\n",
       "<table border=\"1\" class=\"dataframe\">\n",
       "  <thead>\n",
       "    <tr style=\"text-align: right;\">\n",
       "      <th></th>\n",
       "      <th>num_cols_missing</th>\n",
       "      <th>num_rows</th>\n",
       "      <th>pct_cols_missing</th>\n",
       "    </tr>\n",
       "  </thead>\n",
       "  <tbody>\n",
       "    <tr>\n",
       "      <th>25</th>\n",
       "      <td>48</td>\n",
       "      <td>3</td>\n",
       "      <td>0.695652</td>\n",
       "    </tr>\n",
       "    <tr>\n",
       "      <th>24</th>\n",
       "      <td>47</td>\n",
       "      <td>3</td>\n",
       "      <td>0.681159</td>\n",
       "    </tr>\n",
       "    <tr>\n",
       "      <th>23</th>\n",
       "      <td>46</td>\n",
       "      <td>5</td>\n",
       "      <td>0.666667</td>\n",
       "    </tr>\n",
       "    <tr>\n",
       "      <th>22</th>\n",
       "      <td>45</td>\n",
       "      <td>50</td>\n",
       "      <td>0.652174</td>\n",
       "    </tr>\n",
       "    <tr>\n",
       "      <th>21</th>\n",
       "      <td>44</td>\n",
       "      <td>79</td>\n",
       "      <td>0.637681</td>\n",
       "    </tr>\n",
       "    <tr>\n",
       "      <th>20</th>\n",
       "      <td>43</td>\n",
       "      <td>29</td>\n",
       "      <td>0.623188</td>\n",
       "    </tr>\n",
       "    <tr>\n",
       "      <th>19</th>\n",
       "      <td>42</td>\n",
       "      <td>26</td>\n",
       "      <td>0.608696</td>\n",
       "    </tr>\n",
       "    <tr>\n",
       "      <th>18</th>\n",
       "      <td>41</td>\n",
       "      <td>29</td>\n",
       "      <td>0.594203</td>\n",
       "    </tr>\n",
       "    <tr>\n",
       "      <th>17</th>\n",
       "      <td>40</td>\n",
       "      <td>230</td>\n",
       "      <td>0.579710</td>\n",
       "    </tr>\n",
       "    <tr>\n",
       "      <th>16</th>\n",
       "      <td>39</td>\n",
       "      <td>285</td>\n",
       "      <td>0.565217</td>\n",
       "    </tr>\n",
       "    <tr>\n",
       "      <th>15</th>\n",
       "      <td>38</td>\n",
       "      <td>1932</td>\n",
       "      <td>0.550725</td>\n",
       "    </tr>\n",
       "    <tr>\n",
       "      <th>14</th>\n",
       "      <td>37</td>\n",
       "      <td>3630</td>\n",
       "      <td>0.536232</td>\n",
       "    </tr>\n",
       "    <tr>\n",
       "      <th>13</th>\n",
       "      <td>36</td>\n",
       "      <td>5793</td>\n",
       "      <td>0.521739</td>\n",
       "    </tr>\n",
       "    <tr>\n",
       "      <th>12</th>\n",
       "      <td>35</td>\n",
       "      <td>5163</td>\n",
       "      <td>0.507246</td>\n",
       "    </tr>\n",
       "    <tr>\n",
       "      <th>11</th>\n",
       "      <td>34</td>\n",
       "      <td>13356</td>\n",
       "      <td>0.492754</td>\n",
       "    </tr>\n",
       "    <tr>\n",
       "      <th>10</th>\n",
       "      <td>33</td>\n",
       "      <td>14817</td>\n",
       "      <td>0.478261</td>\n",
       "    </tr>\n",
       "    <tr>\n",
       "      <th>9</th>\n",
       "      <td>32</td>\n",
       "      <td>12606</td>\n",
       "      <td>0.463768</td>\n",
       "    </tr>\n",
       "    <tr>\n",
       "      <th>8</th>\n",
       "      <td>31</td>\n",
       "      <td>9911</td>\n",
       "      <td>0.449275</td>\n",
       "    </tr>\n",
       "    <tr>\n",
       "      <th>7</th>\n",
       "      <td>30</td>\n",
       "      <td>3465</td>\n",
       "      <td>0.434783</td>\n",
       "    </tr>\n",
       "    <tr>\n",
       "      <th>6</th>\n",
       "      <td>29</td>\n",
       "      <td>5285</td>\n",
       "      <td>0.420290</td>\n",
       "    </tr>\n",
       "    <tr>\n",
       "      <th>5</th>\n",
       "      <td>28</td>\n",
       "      <td>457</td>\n",
       "      <td>0.405797</td>\n",
       "    </tr>\n",
       "    <tr>\n",
       "      <th>4</th>\n",
       "      <td>27</td>\n",
       "      <td>316</td>\n",
       "      <td>0.391304</td>\n",
       "    </tr>\n",
       "    <tr>\n",
       "      <th>3</th>\n",
       "      <td>26</td>\n",
       "      <td>65</td>\n",
       "      <td>0.376812</td>\n",
       "    </tr>\n",
       "    <tr>\n",
       "      <th>2</th>\n",
       "      <td>25</td>\n",
       "      <td>24</td>\n",
       "      <td>0.362319</td>\n",
       "    </tr>\n",
       "    <tr>\n",
       "      <th>1</th>\n",
       "      <td>24</td>\n",
       "      <td>13</td>\n",
       "      <td>0.347826</td>\n",
       "    </tr>\n",
       "    <tr>\n",
       "      <th>0</th>\n",
       "      <td>23</td>\n",
       "      <td>2</td>\n",
       "      <td>0.333333</td>\n",
       "    </tr>\n",
       "  </tbody>\n",
       "</table>\n",
       "</div>"
      ],
      "text/plain": [
       "    num_cols_missing  num_rows  pct_cols_missing\n",
       "25                48         3          0.695652\n",
       "24                47         3          0.681159\n",
       "23                46         5          0.666667\n",
       "22                45        50          0.652174\n",
       "21                44        79          0.637681\n",
       "20                43        29          0.623188\n",
       "19                42        26          0.608696\n",
       "18                41        29          0.594203\n",
       "17                40       230          0.579710\n",
       "16                39       285          0.565217\n",
       "15                38      1932          0.550725\n",
       "14                37      3630          0.536232\n",
       "13                36      5793          0.521739\n",
       "12                35      5163          0.507246\n",
       "11                34     13356          0.492754\n",
       "10                33     14817          0.478261\n",
       "9                 32     12606          0.463768\n",
       "8                 31      9911          0.449275\n",
       "7                 30      3465          0.434783\n",
       "6                 29      5285          0.420290\n",
       "5                 28       457          0.405797\n",
       "4                 27       316          0.391304\n",
       "3                 26        65          0.376812\n",
       "2                 25        24          0.362319\n",
       "1                 24        13          0.347826\n",
       "0                 23         2          0.333333"
      ]
     },
     "execution_count": 15,
     "metadata": {},
     "output_type": "execute_result"
    }
   ],
   "source": [
    "# sort valyes by pc_col_missing\n",
    "cols_missing(df).sort_values(by = ['pct_cols_missing'], ascending = False)"
   ]
  },
  {
   "cell_type": "markdown",
   "metadata": {},
   "source": [
    "#### Remove any properties that are likely to be something other than single unit properties. (e.g. no duplexes, no land/lot, ...). There are multiple ways to estimate that a property is a single unit, and there is not a single \"right\" answer. But for this exercise, do not purely filter by unitcnt as we did previously. Add some new logic that will reduce the number of properties that are falsely removed. You might want to use # bedrooms, square feet, unit type or the like to then identify those with unitcnt not defined."
   ]
  },
  {
   "cell_type": "code",
   "execution_count": 20,
   "metadata": {},
   "outputs": [
    {
     "data": {
      "text/plain": [
       "(77574, 69)"
      ]
     },
     "execution_count": 20,
     "metadata": {},
     "output_type": "execute_result"
    }
   ],
   "source": [
    "#check data shape\n",
    "df.shape"
   ]
  },
  {
   "cell_type": "code",
   "execution_count": 21,
   "metadata": {},
   "outputs": [
    {
     "data": {
      "text/plain": [
       "1.0      47412\n",
       "NaN      26872\n",
       "2.0       2031\n",
       "4.0        726\n",
       "3.0        529\n",
       "6.0          1\n",
       "45.0         1\n",
       "237.0        1\n",
       "42.0         1\n",
       "Name: unitcnt, dtype: int64"
      ]
     },
     "execution_count": 21,
     "metadata": {},
     "output_type": "execute_result"
    }
   ],
   "source": [
    "# look at value counts for 'unitcnt'\n",
    "\n",
    "df.unitcnt.value_counts(dropna = False)"
   ]
  },
  {
   "cell_type": "code",
   "execution_count": 16,
   "metadata": {},
   "outputs": [],
   "source": [
    "# Restrict df to only properties that meet single unit criteria\n",
    "\n",
    "single_use = [261, 262, 263, 264, 266, 268, 273, 276, 279]\n",
    "df = df[df.propertylandusetypeid.isin(single_use)]\n",
    "    \n",
    "    \n",
    "# Restrict df to only those properties with at least 1 bath & bed and >350 sqft area\n",
    "df = df[(df.bedroomcnt > 0) & (df.bathroomcnt > 0) & ((df.unitcnt<=1)|df.unitcnt.isnull()) & (df.calculatedfinishedsquarefeet>350)]\n"
   ]
  },
  {
   "cell_type": "code",
   "execution_count": 17,
   "metadata": {},
   "outputs": [
    {
     "data": {
      "text/plain": [
       "(71355, 69)"
      ]
     },
     "execution_count": 17,
     "metadata": {},
     "output_type": "execute_result"
    }
   ],
   "source": [
    "# check # of columns and rows left\n",
    "df.shape"
   ]
  },
  {
   "cell_type": "markdown",
   "metadata": {},
   "source": [
    "#### Create a function that will drop rows or columns based on the percent of values that are missing: handle_missing_values(df, prop_required_column, prop_required_row)."
   ]
  },
  {
   "cell_type": "code",
   "execution_count": 18,
   "metadata": {},
   "outputs": [],
   "source": [
    "def handle_missing_values(df, prop_required_column = .5, prop_required_row = .70):\n",
    "    threshold = int(round(prop_required_column*len(df.index),0))\n",
    "    df.dropna(axis=1, thresh=threshold, inplace=True)\n",
    "    threshold = int(round(prop_required_row*len(df.columns),0))\n",
    "    df.dropna(axis=0, thresh=threshold, inplace=True)\n",
    "    return df"
   ]
  },
  {
   "cell_type": "code",
   "execution_count": 19,
   "metadata": {},
   "outputs": [],
   "source": [
    "# use the function defined above:\n",
    "\n",
    "df = handle_missing_values(df)"
   ]
  },
  {
   "cell_type": "code",
   "execution_count": 20,
   "metadata": {},
   "outputs": [
    {
     "data": {
      "text/plain": [
       "(71355, 35)"
      ]
     },
     "execution_count": 20,
     "metadata": {},
     "output_type": "execute_result"
    }
   ],
   "source": [
    "# check shape to see how many columns and rows were dropped\n",
    "\n",
    "df.shape"
   ]
  },
  {
   "cell_type": "code",
   "execution_count": 21,
   "metadata": {},
   "outputs": [
    {
     "name": "stdout",
     "output_type": "stream",
     "text": [
      "<class 'pandas.core.frame.DataFrame'>\n",
      "Int64Index: 71355 entries, 0 to 77573\n",
      "Data columns (total 35 columns):\n",
      " #   Column                        Non-Null Count  Dtype  \n",
      "---  ------                        --------------  -----  \n",
      " 0   Unnamed: 0                    71355 non-null  int64  \n",
      " 1   id                            71355 non-null  int64  \n",
      " 2   parcelid                      71355 non-null  int64  \n",
      " 3   bathroomcnt                   71355 non-null  float64\n",
      " 4   bedroomcnt                    71355 non-null  float64\n",
      " 5   buildingqualitytypeid         44841 non-null  float64\n",
      " 6   calculatedbathnbr             71340 non-null  float64\n",
      " 7   calculatedfinishedsquarefeet  71355 non-null  float64\n",
      " 8   finishedsquarefeet12          71188 non-null  float64\n",
      " 9   fips                          71355 non-null  float64\n",
      " 10  fullbathcnt                   71340 non-null  float64\n",
      " 11  heatingorsystemtypeid         46412 non-null  float64\n",
      " 12  latitude                      71355 non-null  float64\n",
      " 13  longitude                     71355 non-null  float64\n",
      " 14  lotsizesquarefeet             63321 non-null  float64\n",
      " 15  propertycountylandusecode     71355 non-null  object \n",
      " 16  propertylandusetypeid         71355 non-null  float64\n",
      " 17  propertyzoningdesc            45134 non-null  object \n",
      " 18  rawcensustractandblock        71355 non-null  float64\n",
      " 19  regionidcity                  70033 non-null  float64\n",
      " 20  regionidcounty                71355 non-null  float64\n",
      " 21  regionidzip                   71315 non-null  float64\n",
      " 22  roomcnt                       71355 non-null  float64\n",
      " 23  unitcnt                       45160 non-null  float64\n",
      " 24  yearbuilt                     71320 non-null  float64\n",
      " 25  structuretaxvaluedollarcnt    71280 non-null  float64\n",
      " 26  taxvaluedollarcnt             71354 non-null  float64\n",
      " 27  assessmentyear                71355 non-null  float64\n",
      " 28  landtaxvaluedollarcnt         71354 non-null  float64\n",
      " 29  taxamount                     71350 non-null  float64\n",
      " 30  censustractandblock           71147 non-null  float64\n",
      " 31  logerror                      71355 non-null  float64\n",
      " 32  transactiondate               71355 non-null  object \n",
      " 33  heatingorsystemdesc           46412 non-null  object \n",
      " 34  propertylandusedesc           71355 non-null  object \n",
      "dtypes: float64(27), int64(3), object(5)\n",
      "memory usage: 19.6+ MB\n"
     ]
    }
   ],
   "source": [
    "df.info()"
   ]
  },
  {
   "cell_type": "code",
   "execution_count": 22,
   "metadata": {},
   "outputs": [
    {
     "data": {
      "text/plain": [
       "Unnamed: 0                          0\n",
       "id                                  0\n",
       "parcelid                            0\n",
       "bathroomcnt                         0\n",
       "bedroomcnt                          0\n",
       "buildingqualitytypeid           26514\n",
       "calculatedbathnbr                  15\n",
       "calculatedfinishedsquarefeet        0\n",
       "finishedsquarefeet12              167\n",
       "fips                                0\n",
       "fullbathcnt                        15\n",
       "heatingorsystemtypeid           24943\n",
       "latitude                            0\n",
       "longitude                           0\n",
       "lotsizesquarefeet                8034\n",
       "propertycountylandusecode           0\n",
       "propertylandusetypeid               0\n",
       "propertyzoningdesc              26221\n",
       "rawcensustractandblock              0\n",
       "regionidcity                     1322\n",
       "regionidcounty                      0\n",
       "regionidzip                        40\n",
       "roomcnt                             0\n",
       "unitcnt                         26195\n",
       "yearbuilt                          35\n",
       "structuretaxvaluedollarcnt         75\n",
       "taxvaluedollarcnt                   1\n",
       "assessmentyear                      0\n",
       "landtaxvaluedollarcnt               1\n",
       "taxamount                           5\n",
       "censustractandblock               208\n",
       "logerror                            0\n",
       "transactiondate                     0\n",
       "heatingorsystemdesc             24943\n",
       "propertylandusedesc                 0\n",
       "dtype: int64"
      ]
     },
     "execution_count": 22,
     "metadata": {},
     "output_type": "execute_result"
    }
   ],
   "source": [
    "# look at number of nulls for each column\n",
    "df.isnull().sum()"
   ]
  },
  {
   "cell_type": "code",
   "execution_count": 23,
   "metadata": {},
   "outputs": [],
   "source": [
    "# use your judgement to remove certain columns which you don't need\n",
    "\n",
    "cols_to_remove = ['id',\n",
    "       'calculatedbathnbr', 'finishedsquarefeet12', 'fullbathcnt', 'heatingorsystemtypeid'\n",
    "       ,'propertycountylandusecode', 'propertylandusetypeid','propertyzoningdesc', \n",
    "        'censustractandblock', 'propertylandusedesc', 'unitcnt']"
   ]
  },
  {
   "cell_type": "code",
   "execution_count": 25,
   "metadata": {},
   "outputs": [],
   "source": [
    "def remove_columns(df, cols_to_remove):  \n",
    "    df = df.drop(columns=cols_to_remove)\n",
    "    return df"
   ]
  },
  {
   "cell_type": "code",
   "execution_count": 26,
   "metadata": {},
   "outputs": [],
   "source": [
    "# use the function defined above to remove the columns not needed:\n",
    "\n",
    "df = remove_columns(df, cols_to_remove)"
   ]
  },
  {
   "cell_type": "code",
   "execution_count": 27,
   "metadata": {},
   "outputs": [
    {
     "data": {
      "text/plain": [
       "Unnamed: 0                          0\n",
       "parcelid                            0\n",
       "bathroomcnt                         0\n",
       "bedroomcnt                          0\n",
       "buildingqualitytypeid           26514\n",
       "calculatedfinishedsquarefeet        0\n",
       "fips                                0\n",
       "latitude                            0\n",
       "longitude                           0\n",
       "lotsizesquarefeet                8034\n",
       "rawcensustractandblock              0\n",
       "regionidcity                     1322\n",
       "regionidcounty                      0\n",
       "regionidzip                        40\n",
       "roomcnt                             0\n",
       "yearbuilt                          35\n",
       "structuretaxvaluedollarcnt         75\n",
       "taxvaluedollarcnt                   1\n",
       "assessmentyear                      0\n",
       "landtaxvaluedollarcnt               1\n",
       "taxamount                           5\n",
       "logerror                            0\n",
       "transactiondate                     0\n",
       "heatingorsystemdesc             24943\n",
       "dtype: int64"
      ]
     },
     "execution_count": 27,
     "metadata": {},
     "output_type": "execute_result"
    }
   ],
   "source": [
    "# take a look at null counts again\n",
    "\n",
    "df.isnull().sum()"
   ]
  },
  {
   "cell_type": "code",
   "execution_count": 33,
   "metadata": {},
   "outputs": [
    {
     "data": {
      "text/plain": [
       "Central       31357\n",
       "NaN           24943\n",
       "Floor/Wall    13229\n",
       "Yes             850\n",
       "Forced air      775\n",
       "Solar           101\n",
       "None             60\n",
       "Radiant          23\n",
       "Baseboard        13\n",
       "Gravity           3\n",
       "Heat Pump         1\n",
       "Name: heatingorsystemdesc, dtype: int64"
      ]
     },
     "execution_count": 33,
     "metadata": {},
     "output_type": "execute_result"
    }
   ],
   "source": [
    "# let's look at heatingorsystemdesc value counts\n",
    "\n",
    "df.heatingorsystemdesc.value_counts(dropna = False)"
   ]
  },
  {
   "cell_type": "code",
   "execution_count": 34,
   "metadata": {
    "scrolled": true
   },
   "outputs": [
    {
     "data": {
      "text/plain": [
       "6037.0    45320\n",
       "6059.0    20289\n",
       "6111.0     5746\n",
       "Name: fips, dtype: int64"
      ]
     },
     "execution_count": 34,
     "metadata": {},
     "output_type": "execute_result"
    }
   ],
   "source": [
    "df.fips.value_counts()"
   ]
  },
  {
   "cell_type": "code",
   "execution_count": 35,
   "metadata": {
    "scrolled": true
   },
   "outputs": [
    {
     "data": {
      "text/plain": [
       "NaN    5746\n",
       "Name: heatingorsystemdesc, dtype: int64"
      ]
     },
     "execution_count": 35,
     "metadata": {},
     "output_type": "execute_result"
    }
   ],
   "source": [
    "# how many missing values by county?\n",
    "df[df.fips == 6111].heatingorsystemdesc.value_counts(dropna = False)"
   ]
  },
  {
   "cell_type": "code",
   "execution_count": 36,
   "metadata": {},
   "outputs": [],
   "source": [
    "# I assume that since this is Southern CA, 'null' probably means 'None' for heating system\n",
    "\n",
    "df.drop(columns = 'heatingorsystemdesc', inplace = True)"
   ]
  },
  {
   "cell_type": "code",
   "execution_count": 37,
   "metadata": {},
   "outputs": [
    {
     "data": {
      "text/plain": [
       "NaN     26514\n",
       "8.0     13404\n",
       "6.0     12673\n",
       "4.0      8226\n",
       "7.0      5505\n",
       "9.0      2113\n",
       "5.0      1499\n",
       "11.0      846\n",
       "10.0      301\n",
       "3.0       149\n",
       "12.0      113\n",
       "1.0         9\n",
       "2.0         3\n",
       "Name: buildingqualitytypeid, dtype: int64"
      ]
     },
     "execution_count": 37,
     "metadata": {},
     "output_type": "execute_result"
    }
   ],
   "source": [
    "# buildingqualitytypeid\n",
    "# Overall assessment of condition of the building from \n",
    "# low number = best quality\n",
    "# higher numbers = worse quality\n",
    "\n",
    "df.buildingqualitytypeid.value_counts(dropna = False)"
   ]
  },
  {
   "cell_type": "code",
   "execution_count": 38,
   "metadata": {},
   "outputs": [
    {
     "data": {
      "text/plain": [
       "NaN    20289\n",
       "Name: buildingqualitytypeid, dtype: int64"
      ]
     },
     "execution_count": 38,
     "metadata": {},
     "output_type": "execute_result"
    }
   ],
   "source": [
    "df[df.fips == 6059].buildingqualitytypeid.value_counts(dropna = False)"
   ]
  },
  {
   "cell_type": "code",
   "execution_count": 39,
   "metadata": {},
   "outputs": [],
   "source": [
    "# what is the median value of buildingqualitytypeid?\n",
    "\n",
    "# df.buildingqualitytypeid.median()"
   ]
  },
  {
   "cell_type": "code",
   "execution_count": 40,
   "metadata": {},
   "outputs": [],
   "source": [
    "# should I fill missing values for buildingqualitytypeid with median value?\n",
    "# df.buildingqualitytypeid.fillna(6.0, inplace = True)"
   ]
  },
  {
   "cell_type": "code",
   "execution_count": 41,
   "metadata": {},
   "outputs": [],
   "source": [
    "# I should just drop the buildingqualitytypeid column for now.\n",
    "df.drop(columns = 'buildingqualitytypeid', inplace = True)"
   ]
  },
  {
   "cell_type": "code",
   "execution_count": 42,
   "metadata": {},
   "outputs": [
    {
     "data": {
      "text/plain": [
       "Unnamed: 0                         0\n",
       "parcelid                           0\n",
       "bathroomcnt                        0\n",
       "bedroomcnt                         0\n",
       "calculatedfinishedsquarefeet       0\n",
       "fips                               0\n",
       "latitude                           0\n",
       "longitude                          0\n",
       "lotsizesquarefeet               8034\n",
       "rawcensustractandblock             0\n",
       "regionidcity                    1322\n",
       "regionidcounty                     0\n",
       "regionidzip                       40\n",
       "roomcnt                            0\n",
       "yearbuilt                         35\n",
       "structuretaxvaluedollarcnt        75\n",
       "taxvaluedollarcnt                  1\n",
       "assessmentyear                     0\n",
       "landtaxvaluedollarcnt              1\n",
       "taxamount                          5\n",
       "logerror                           0\n",
       "transactiondate                    0\n",
       "dtype: int64"
      ]
     },
     "execution_count": 42,
     "metadata": {},
     "output_type": "execute_result"
    }
   ],
   "source": [
    "df.isnull().sum()"
   ]
  },
  {
   "cell_type": "code",
   "execution_count": 28,
   "metadata": {},
   "outputs": [
    {
     "data": {
      "text/plain": [
       "<AxesSubplot:>"
      ]
     },
     "execution_count": 28,
     "metadata": {},
     "output_type": "execute_result"
    },
    {
     "data": {
      "image/png": "[encoded data removed]",
      "text/plain": [
       "<Figure size 432x288 with 1 Axes>"
      ]
     },
     "metadata": {
      "needs_background": "light"
     },
     "output_type": "display_data"
    }
   ],
   "source": [
    "# look at lot-size distribution\n",
    "df.lotsizesquarefeet.hist(bins = 100)"
   ]
  },
  {
   "cell_type": "code",
   "execution_count": 44,
   "metadata": {},
   "outputs": [
    {
     "data": {
      "text/plain": [
       "7313.0"
      ]
     },
     "execution_count": 44,
     "metadata": {},
     "output_type": "execute_result"
    }
   ],
   "source": [
    "# what is the median lot size?\n",
    "\n",
    "df.lotsizesquarefeet.median()"
   ]
  },
  {
   "cell_type": "code",
   "execution_count": 45,
   "metadata": {},
   "outputs": [],
   "source": [
    "# fill missing values with median null sizes\n",
    "\n",
    "df.lotsizesquarefeet.fillna(7313, inplace = True)"
   ]
  },
  {
   "cell_type": "code",
   "execution_count": 46,
   "metadata": {
    "scrolled": false
   },
   "outputs": [
    {
     "data": {
      "text/plain": [
       "Unnamed: 0                         0\n",
       "parcelid                           0\n",
       "bathroomcnt                        0\n",
       "bedroomcnt                         0\n",
       "calculatedfinishedsquarefeet       0\n",
       "fips                               0\n",
       "latitude                           0\n",
       "longitude                          0\n",
       "lotsizesquarefeet                  0\n",
       "rawcensustractandblock             0\n",
       "regionidcity                    1322\n",
       "regionidcounty                     0\n",
       "regionidzip                       40\n",
       "roomcnt                            0\n",
       "yearbuilt                         35\n",
       "structuretaxvaluedollarcnt        75\n",
       "taxvaluedollarcnt                  1\n",
       "assessmentyear                     0\n",
       "landtaxvaluedollarcnt              1\n",
       "taxamount                          5\n",
       "logerror                           0\n",
       "transactiondate                    0\n",
       "dtype: int64"
      ]
     },
     "execution_count": 46,
     "metadata": {},
     "output_type": "execute_result"
    }
   ],
   "source": [
    "df.isnull().sum()"
   ]
  },
  {
   "cell_type": "code",
   "execution_count": 47,
   "metadata": {},
   "outputs": [],
   "source": [
    "# I am going to drop the rest of nulls \n",
    "\n",
    "df.dropna(inplace = True)"
   ]
  },
  {
   "cell_type": "code",
   "execution_count": 48,
   "metadata": {},
   "outputs": [
    {
     "data": {
      "text/plain": [
       "(69919, 22)"
      ]
     },
     "execution_count": 48,
     "metadata": {},
     "output_type": "execute_result"
    }
   ],
   "source": [
    "# How many rows and columns are left?\n",
    "\n",
    "df.shape"
   ]
  },
  {
   "cell_type": "code",
   "execution_count": 49,
   "metadata": {},
   "outputs": [
    {
     "data": {
      "text/html": [
       "<div>\n",
       "<style scoped>\n",
       "    .dataframe tbody tr th:only-of-type {\n",
       "        vertical-align: middle;\n",
       "    }\n",
       "\n",
       "    .dataframe tbody tr th {\n",
       "        vertical-align: top;\n",
       "    }\n",
       "\n",
       "    .dataframe thead th {\n",
       "        text-align: right;\n",
       "    }\n",
       "</style>\n",
       "<table border=\"1\" class=\"dataframe\">\n",
       "  <thead>\n",
       "    <tr style=\"text-align: right;\">\n",
       "      <th></th>\n",
       "      <th>Unnamed: 0</th>\n",
       "      <th>parcelid</th>\n",
       "      <th>bathroomcnt</th>\n",
       "      <th>bedroomcnt</th>\n",
       "      <th>calculatedfinishedsquarefeet</th>\n",
       "      <th>fips</th>\n",
       "      <th>latitude</th>\n",
       "      <th>longitude</th>\n",
       "      <th>lotsizesquarefeet</th>\n",
       "      <th>rawcensustractandblock</th>\n",
       "      <th>...</th>\n",
       "      <th>regionidzip</th>\n",
       "      <th>roomcnt</th>\n",
       "      <th>yearbuilt</th>\n",
       "      <th>structuretaxvaluedollarcnt</th>\n",
       "      <th>taxvaluedollarcnt</th>\n",
       "      <th>assessmentyear</th>\n",
       "      <th>landtaxvaluedollarcnt</th>\n",
       "      <th>taxamount</th>\n",
       "      <th>logerror</th>\n",
       "      <th>transactiondate</th>\n",
       "    </tr>\n",
       "  </thead>\n",
       "  <tbody>\n",
       "    <tr>\n",
       "      <th>0</th>\n",
       "      <td>0</td>\n",
       "      <td>14297519</td>\n",
       "      <td>3.5</td>\n",
       "      <td>4.0</td>\n",
       "      <td>3100.0</td>\n",
       "      <td>6059.0</td>\n",
       "      <td>33634931.0</td>\n",
       "      <td>-117869207.0</td>\n",
       "      <td>4506.0</td>\n",
       "      <td>6.059063e+07</td>\n",
       "      <td>...</td>\n",
       "      <td>96978.0</td>\n",
       "      <td>0.0</td>\n",
       "      <td>1998.0</td>\n",
       "      <td>485713.0</td>\n",
       "      <td>1023282.0</td>\n",
       "      <td>2016.0</td>\n",
       "      <td>537569.0</td>\n",
       "      <td>11013.72</td>\n",
       "      <td>0.025595</td>\n",
       "      <td>2017-01-01</td>\n",
       "    </tr>\n",
       "    <tr>\n",
       "      <th>1</th>\n",
       "      <td>1</td>\n",
       "      <td>17052889</td>\n",
       "      <td>1.0</td>\n",
       "      <td>2.0</td>\n",
       "      <td>1465.0</td>\n",
       "      <td>6111.0</td>\n",
       "      <td>34449266.0</td>\n",
       "      <td>-119281531.0</td>\n",
       "      <td>12647.0</td>\n",
       "      <td>6.111001e+07</td>\n",
       "      <td>...</td>\n",
       "      <td>97099.0</td>\n",
       "      <td>5.0</td>\n",
       "      <td>1967.0</td>\n",
       "      <td>88000.0</td>\n",
       "      <td>464000.0</td>\n",
       "      <td>2016.0</td>\n",
       "      <td>376000.0</td>\n",
       "      <td>5672.48</td>\n",
       "      <td>0.055619</td>\n",
       "      <td>2017-01-01</td>\n",
       "    </tr>\n",
       "    <tr>\n",
       "      <th>2</th>\n",
       "      <td>2</td>\n",
       "      <td>14186244</td>\n",
       "      <td>2.0</td>\n",
       "      <td>3.0</td>\n",
       "      <td>1243.0</td>\n",
       "      <td>6059.0</td>\n",
       "      <td>33886168.0</td>\n",
       "      <td>-117823170.0</td>\n",
       "      <td>8432.0</td>\n",
       "      <td>6.059022e+07</td>\n",
       "      <td>...</td>\n",
       "      <td>97078.0</td>\n",
       "      <td>6.0</td>\n",
       "      <td>1962.0</td>\n",
       "      <td>85289.0</td>\n",
       "      <td>564778.0</td>\n",
       "      <td>2016.0</td>\n",
       "      <td>479489.0</td>\n",
       "      <td>6488.30</td>\n",
       "      <td>0.005383</td>\n",
       "      <td>2017-01-01</td>\n",
       "    </tr>\n",
       "    <tr>\n",
       "      <th>3</th>\n",
       "      <td>3</td>\n",
       "      <td>12177905</td>\n",
       "      <td>3.0</td>\n",
       "      <td>4.0</td>\n",
       "      <td>2376.0</td>\n",
       "      <td>6037.0</td>\n",
       "      <td>34245180.0</td>\n",
       "      <td>-118240722.0</td>\n",
       "      <td>13038.0</td>\n",
       "      <td>6.037300e+07</td>\n",
       "      <td>...</td>\n",
       "      <td>96330.0</td>\n",
       "      <td>0.0</td>\n",
       "      <td>1970.0</td>\n",
       "      <td>108918.0</td>\n",
       "      <td>145143.0</td>\n",
       "      <td>2016.0</td>\n",
       "      <td>36225.0</td>\n",
       "      <td>1777.51</td>\n",
       "      <td>-0.103410</td>\n",
       "      <td>2017-01-01</td>\n",
       "    </tr>\n",
       "    <tr>\n",
       "      <th>4</th>\n",
       "      <td>4</td>\n",
       "      <td>10887214</td>\n",
       "      <td>3.0</td>\n",
       "      <td>3.0</td>\n",
       "      <td>1312.0</td>\n",
       "      <td>6037.0</td>\n",
       "      <td>34185120.0</td>\n",
       "      <td>-118414640.0</td>\n",
       "      <td>278581.0</td>\n",
       "      <td>6.037124e+07</td>\n",
       "      <td>...</td>\n",
       "      <td>96451.0</td>\n",
       "      <td>0.0</td>\n",
       "      <td>1964.0</td>\n",
       "      <td>73681.0</td>\n",
       "      <td>119407.0</td>\n",
       "      <td>2016.0</td>\n",
       "      <td>45726.0</td>\n",
       "      <td>1533.89</td>\n",
       "      <td>0.006940</td>\n",
       "      <td>2017-01-01</td>\n",
       "    </tr>\n",
       "  </tbody>\n",
       "</table>\n",
       "<p>5 rows × 22 columns</p>\n",
       "</div>"
      ],
      "text/plain": [
       "   Unnamed: 0  parcelid  bathroomcnt  bedroomcnt  \\\n",
       "0           0  14297519          3.5         4.0   \n",
       "1           1  17052889          1.0         2.0   \n",
       "2           2  14186244          2.0         3.0   \n",
       "3           3  12177905          3.0         4.0   \n",
       "4           4  10887214          3.0         3.0   \n",
       "\n",
       "   calculatedfinishedsquarefeet    fips    latitude    longitude  \\\n",
       "0                        3100.0  6059.0  33634931.0 -117869207.0   \n",
       "1                        1465.0  6111.0  34449266.0 -119281531.0   \n",
       "2                        1243.0  6059.0  33886168.0 -117823170.0   \n",
       "3                        2376.0  6037.0  34245180.0 -118240722.0   \n",
       "4                        1312.0  6037.0  34185120.0 -118414640.0   \n",
       "\n",
       "   lotsizesquarefeet  rawcensustractandblock  ...  regionidzip  roomcnt  \\\n",
       "0             4506.0            6.059063e+07  ...      96978.0      0.0   \n",
       "1            12647.0            6.111001e+07  ...      97099.0      5.0   \n",
       "2             8432.0            6.059022e+07  ...      97078.0      6.0   \n",
       "3            13038.0            6.037300e+07  ...      96330.0      0.0   \n",
       "4           278581.0            6.037124e+07  ...      96451.0      0.0   \n",
       "\n",
       "   yearbuilt  structuretaxvaluedollarcnt  taxvaluedollarcnt  assessmentyear  \\\n",
       "0     1998.0                    485713.0          1023282.0          2016.0   \n",
       "1     1967.0                     88000.0           464000.0          2016.0   \n",
       "2     1962.0                     85289.0           564778.0          2016.0   \n",
       "3     1970.0                    108918.0           145143.0          2016.0   \n",
       "4     1964.0                     73681.0           119407.0          2016.0   \n",
       "\n",
       "   landtaxvaluedollarcnt  taxamount  logerror  transactiondate  \n",
       "0               537569.0   11013.72  0.025595       2017-01-01  \n",
       "1               376000.0    5672.48  0.055619       2017-01-01  \n",
       "2               479489.0    6488.30  0.005383       2017-01-01  \n",
       "3                36225.0    1777.51 -0.103410       2017-01-01  \n",
       "4                45726.0    1533.89  0.006940       2017-01-01  \n",
       "\n",
       "[5 rows x 22 columns]"
      ]
     },
     "execution_count": 49,
     "metadata": {},
     "output_type": "execute_result"
    }
   ],
   "source": [
    "df.head()"
   ]
  },
  {
   "cell_type": "markdown",
   "metadata": {},
   "source": [
    "### Check for outliers in select columns"
   ]
  },
  {
   "cell_type": "code",
   "execution_count": 50,
   "metadata": {},
   "outputs": [
    {
     "data": {
      "text/plain": [
       "<AxesSubplot:ylabel='taxvaluedollarcnt'>"
      ]
     },
     "execution_count": 50,
     "metadata": {},
     "output_type": "execute_result"
    },
    {
     "data": {
      "image/png": "[encoded data removed]",
      "text/plain": [
       "<Figure size 432x288 with 1 Axes>"
      ]
     },
     "metadata": {
      "needs_background": "light"
     },
     "output_type": "display_data"
    }
   ],
   "source": [
    "# plt.subplot(221)\n",
    "sns.boxplot(y = 'taxvaluedollarcnt', data = df)"
   ]
  },
  {
   "cell_type": "code",
   "execution_count": 51,
   "metadata": {},
   "outputs": [
    {
     "data": {
      "image/png": "[encoded data removed]",
      "text/plain": [
       "<Figure size 432x288 with 1 Axes>"
      ]
     },
     "metadata": {
      "needs_background": "light"
     },
     "output_type": "display_data"
    }
   ],
   "source": [
    "#Histograms for taxvalue of properties\n",
    "\n",
    "plt.hist(df.taxvaluedollarcnt);"
   ]
  },
  {
   "cell_type": "code",
   "execution_count": 52,
   "metadata": {},
   "outputs": [
    {
     "data": {
      "image/png": "[encoded data removed]",
      "text/plain": [
       "<Figure size 432x288 with 1 Axes>"
      ]
     },
     "metadata": {
      "needs_background": "light"
     },
     "output_type": "display_data"
    }
   ],
   "source": [
    "#Histograms for covered sq ft of properties\n",
    "\n",
    "plt.hist(df.calculatedfinishedsquarefeet);"
   ]
  },
  {
   "cell_type": "code",
   "execution_count": 53,
   "metadata": {},
   "outputs": [
    {
     "data": {
      "image/png": "[encoded data removed]",
      "text/plain": [
       "<Figure size 1728x720 with 25 Axes>"
      ]
     },
     "metadata": {
      "needs_background": "light"
     },
     "output_type": "display_data"
    }
   ],
   "source": [
    "# look at distributions for all columns\n",
    "\n",
    "df.hist(figsize=(24, 10), bins=20)\n",
    "plt.tight_layout();"
   ]
  },
  {
   "cell_type": "code",
   "execution_count": 54,
   "metadata": {},
   "outputs": [
    {
     "data": {
      "text/plain": [
       "(69729, 22)"
      ]
     },
     "execution_count": 54,
     "metadata": {},
     "output_type": "execute_result"
    }
   ],
   "source": [
    "# Remove properties valued more than 5 million dollars\n",
    "\n",
    "df = df[df.taxvaluedollarcnt < 5_000_000]\n",
    "df.shape"
   ]
  },
  {
   "cell_type": "code",
   "execution_count": 55,
   "metadata": {},
   "outputs": [
    {
     "data": {
      "text/plain": [
       "(69729, 22)"
      ]
     },
     "execution_count": 55,
     "metadata": {},
     "output_type": "execute_result"
    }
   ],
   "source": [
    "# Remove properties valued more than 8000 square feet\n",
    "\n",
    "df[df.calculatedfinishedsquarefeet < 8000]\n",
    "df.shape"
   ]
  },
  {
   "cell_type": "code",
   "execution_count": 56,
   "metadata": {},
   "outputs": [],
   "source": [
    "# Function to read and wrangle data:\n",
    "\n",
    "def wrangle_zillow():\n",
    "    df = pd.read_csv('zillow.csv')\n",
    "    \n",
    "    # Restrict df to only properties that meet single unit use criteria\n",
    "    single_use = [261, 262, 263, 264, 266, 268, 273, 276, 279]\n",
    "    df = df[df.propertylandusetypeid.isin(single_use)]\n",
    "    \n",
    "    # Restrict df to only those properties with at least 1 bath & bed and 350 sqft area\n",
    "    df = df[(df.bedroomcnt > 0) & (df.bathroomcnt > 0) & ((df.unitcnt<=1)|df.unitcnt.isnull())\\\n",
    "            & (df.calculatedfinishedsquarefeet>350)]\n",
    "\n",
    "    # Handle missing values i.e. drop columns and rows based on a threshold\n",
    "    df = handle_missing_values(df)\n",
    "    \n",
    "    # Add column for counties\n",
    "    df['county'] = np.where(df.fips == 6037, 'Los_Angeles',\n",
    "                           np.where(df.fips == 6059, 'Orange', \n",
    "                                   'Ventura'))    \n",
    "    # drop columns not needed\n",
    "    df = remove_columns(df, ['id',\n",
    "       'calculatedbathnbr', 'finishedsquarefeet12', 'fullbathcnt', 'heatingorsystemtypeid'\n",
    "       ,'propertycountylandusecode', 'propertylandusetypeid','propertyzoningdesc', \n",
    "        'censustractandblock', 'propertylandusedesc','heatingorsystemdesc','unitcnt'\n",
    "                            ,'buildingqualitytypeid'])\n",
    "\n",
    "\n",
    "    # replace nulls in unitcnt with 1\n",
    "#     df.unitcnt.fillna(1, inplace = True)\n",
    "    \n",
    "    # assume that since this is Southern CA, null means 'None' for heating system\n",
    "#     df.heatingorsystemdesc.fillna('None', inplace = True)\n",
    "    \n",
    "    # replace nulls with median values for select columns\n",
    "    df.lotsizesquarefeet.fillna(7313, inplace = True)\n",
    "#     df.buildingqualitytypeid.fillna(6.0, inplace = True)\n",
    "\n",
    "    # Columns to look for outliers\n",
    "    df = df[df.taxvaluedollarcnt < 5_000_000]\n",
    "    df[df.calculatedfinishedsquarefeet < 8000]\n",
    "    \n",
    "    # Just to be sure we caught all nulls, drop them here\n",
    "    df = df.dropna()\n",
    "    \n",
    "    return df"
   ]
  },
  {
   "cell_type": "code",
   "execution_count": 57,
   "metadata": {},
   "outputs": [
    {
     "data": {
      "text/html": [
       "<div>\n",
       "<style scoped>\n",
       "    .dataframe tbody tr th:only-of-type {\n",
       "        vertical-align: middle;\n",
       "    }\n",
       "\n",
       "    .dataframe tbody tr th {\n",
       "        vertical-align: top;\n",
       "    }\n",
       "\n",
       "    .dataframe thead th {\n",
       "        text-align: right;\n",
       "    }\n",
       "</style>\n",
       "<table border=\"1\" class=\"dataframe\">\n",
       "  <thead>\n",
       "    <tr style=\"text-align: right;\">\n",
       "      <th></th>\n",
       "      <th>Unnamed: 0</th>\n",
       "      <th>parcelid</th>\n",
       "      <th>bathroomcnt</th>\n",
       "      <th>bedroomcnt</th>\n",
       "      <th>calculatedfinishedsquarefeet</th>\n",
       "      <th>fips</th>\n",
       "      <th>latitude</th>\n",
       "      <th>longitude</th>\n",
       "      <th>lotsizesquarefeet</th>\n",
       "      <th>rawcensustractandblock</th>\n",
       "      <th>...</th>\n",
       "      <th>roomcnt</th>\n",
       "      <th>yearbuilt</th>\n",
       "      <th>structuretaxvaluedollarcnt</th>\n",
       "      <th>taxvaluedollarcnt</th>\n",
       "      <th>assessmentyear</th>\n",
       "      <th>landtaxvaluedollarcnt</th>\n",
       "      <th>taxamount</th>\n",
       "      <th>logerror</th>\n",
       "      <th>transactiondate</th>\n",
       "      <th>county</th>\n",
       "    </tr>\n",
       "  </thead>\n",
       "  <tbody>\n",
       "    <tr>\n",
       "      <th>0</th>\n",
       "      <td>0</td>\n",
       "      <td>14297519</td>\n",
       "      <td>3.5</td>\n",
       "      <td>4.0</td>\n",
       "      <td>3100.0</td>\n",
       "      <td>6059.0</td>\n",
       "      <td>33634931.0</td>\n",
       "      <td>-117869207.0</td>\n",
       "      <td>4506.0</td>\n",
       "      <td>6.059063e+07</td>\n",
       "      <td>...</td>\n",
       "      <td>0.0</td>\n",
       "      <td>1998.0</td>\n",
       "      <td>485713.0</td>\n",
       "      <td>1023282.0</td>\n",
       "      <td>2016.0</td>\n",
       "      <td>537569.0</td>\n",
       "      <td>11013.72</td>\n",
       "      <td>0.025595</td>\n",
       "      <td>2017-01-01</td>\n",
       "      <td>Orange</td>\n",
       "    </tr>\n",
       "    <tr>\n",
       "      <th>1</th>\n",
       "      <td>1</td>\n",
       "      <td>17052889</td>\n",
       "      <td>1.0</td>\n",
       "      <td>2.0</td>\n",
       "      <td>1465.0</td>\n",
       "      <td>6111.0</td>\n",
       "      <td>34449266.0</td>\n",
       "      <td>-119281531.0</td>\n",
       "      <td>12647.0</td>\n",
       "      <td>6.111001e+07</td>\n",
       "      <td>...</td>\n",
       "      <td>5.0</td>\n",
       "      <td>1967.0</td>\n",
       "      <td>88000.0</td>\n",
       "      <td>464000.0</td>\n",
       "      <td>2016.0</td>\n",
       "      <td>376000.0</td>\n",
       "      <td>5672.48</td>\n",
       "      <td>0.055619</td>\n",
       "      <td>2017-01-01</td>\n",
       "      <td>Ventura</td>\n",
       "    </tr>\n",
       "    <tr>\n",
       "      <th>2</th>\n",
       "      <td>2</td>\n",
       "      <td>14186244</td>\n",
       "      <td>2.0</td>\n",
       "      <td>3.0</td>\n",
       "      <td>1243.0</td>\n",
       "      <td>6059.0</td>\n",
       "      <td>33886168.0</td>\n",
       "      <td>-117823170.0</td>\n",
       "      <td>8432.0</td>\n",
       "      <td>6.059022e+07</td>\n",
       "      <td>...</td>\n",
       "      <td>6.0</td>\n",
       "      <td>1962.0</td>\n",
       "      <td>85289.0</td>\n",
       "      <td>564778.0</td>\n",
       "      <td>2016.0</td>\n",
       "      <td>479489.0</td>\n",
       "      <td>6488.30</td>\n",
       "      <td>0.005383</td>\n",
       "      <td>2017-01-01</td>\n",
       "      <td>Orange</td>\n",
       "    </tr>\n",
       "    <tr>\n",
       "      <th>3</th>\n",
       "      <td>3</td>\n",
       "      <td>12177905</td>\n",
       "      <td>3.0</td>\n",
       "      <td>4.0</td>\n",
       "      <td>2376.0</td>\n",
       "      <td>6037.0</td>\n",
       "      <td>34245180.0</td>\n",
       "      <td>-118240722.0</td>\n",
       "      <td>13038.0</td>\n",
       "      <td>6.037300e+07</td>\n",
       "      <td>...</td>\n",
       "      <td>0.0</td>\n",
       "      <td>1970.0</td>\n",
       "      <td>108918.0</td>\n",
       "      <td>145143.0</td>\n",
       "      <td>2016.0</td>\n",
       "      <td>36225.0</td>\n",
       "      <td>1777.51</td>\n",
       "      <td>-0.103410</td>\n",
       "      <td>2017-01-01</td>\n",
       "      <td>Los_Angeles</td>\n",
       "    </tr>\n",
       "    <tr>\n",
       "      <th>4</th>\n",
       "      <td>4</td>\n",
       "      <td>10887214</td>\n",
       "      <td>3.0</td>\n",
       "      <td>3.0</td>\n",
       "      <td>1312.0</td>\n",
       "      <td>6037.0</td>\n",
       "      <td>34185120.0</td>\n",
       "      <td>-118414640.0</td>\n",
       "      <td>278581.0</td>\n",
       "      <td>6.037124e+07</td>\n",
       "      <td>...</td>\n",
       "      <td>0.0</td>\n",
       "      <td>1964.0</td>\n",
       "      <td>73681.0</td>\n",
       "      <td>119407.0</td>\n",
       "      <td>2016.0</td>\n",
       "      <td>45726.0</td>\n",
       "      <td>1533.89</td>\n",
       "      <td>0.006940</td>\n",
       "      <td>2017-01-01</td>\n",
       "      <td>Los_Angeles</td>\n",
       "    </tr>\n",
       "  </tbody>\n",
       "</table>\n",
       "<p>5 rows × 23 columns</p>\n",
       "</div>"
      ],
      "text/plain": [
       "   Unnamed: 0  parcelid  bathroomcnt  bedroomcnt  \\\n",
       "0           0  14297519          3.5         4.0   \n",
       "1           1  17052889          1.0         2.0   \n",
       "2           2  14186244          2.0         3.0   \n",
       "3           3  12177905          3.0         4.0   \n",
       "4           4  10887214          3.0         3.0   \n",
       "\n",
       "   calculatedfinishedsquarefeet    fips    latitude    longitude  \\\n",
       "0                        3100.0  6059.0  33634931.0 -117869207.0   \n",
       "1                        1465.0  6111.0  34449266.0 -119281531.0   \n",
       "2                        1243.0  6059.0  33886168.0 -117823170.0   \n",
       "3                        2376.0  6037.0  34245180.0 -118240722.0   \n",
       "4                        1312.0  6037.0  34185120.0 -118414640.0   \n",
       "\n",
       "   lotsizesquarefeet  rawcensustractandblock  ...  roomcnt  yearbuilt  \\\n",
       "0             4506.0            6.059063e+07  ...      0.0     1998.0   \n",
       "1            12647.0            6.111001e+07  ...      5.0     1967.0   \n",
       "2             8432.0            6.059022e+07  ...      6.0     1962.0   \n",
       "3            13038.0            6.037300e+07  ...      0.0     1970.0   \n",
       "4           278581.0            6.037124e+07  ...      0.0     1964.0   \n",
       "\n",
       "   structuretaxvaluedollarcnt  taxvaluedollarcnt  assessmentyear  \\\n",
       "0                    485713.0          1023282.0          2016.0   \n",
       "1                     88000.0           464000.0          2016.0   \n",
       "2                     85289.0           564778.0          2016.0   \n",
       "3                    108918.0           145143.0          2016.0   \n",
       "4                     73681.0           119407.0          2016.0   \n",
       "\n",
       "   landtaxvaluedollarcnt  taxamount  logerror  transactiondate       county  \n",
       "0               537569.0   11013.72  0.025595       2017-01-01       Orange  \n",
       "1               376000.0    5672.48  0.055619       2017-01-01      Ventura  \n",
       "2               479489.0    6488.30  0.005383       2017-01-01       Orange  \n",
       "3                36225.0    1777.51 -0.103410       2017-01-01  Los_Angeles  \n",
       "4                45726.0    1533.89  0.006940       2017-01-01  Los_Angeles  \n",
       "\n",
       "[5 rows x 23 columns]"
      ]
     },
     "execution_count": 57,
     "metadata": {},
     "output_type": "execute_result"
    }
   ],
   "source": [
    "df = wrangle_zillow()\n",
    "df.head()"
   ]
  },
  {
   "cell_type": "code",
   "execution_count": 58,
   "metadata": {},
   "outputs": [
    {
     "data": {
      "text/plain": [
       "(61850, 23)"
      ]
     },
     "execution_count": 58,
     "metadata": {},
     "output_type": "execute_result"
    }
   ],
   "source": [
    "df.shape"
   ]
  },
  {
   "cell_type": "markdown",
   "metadata": {},
   "source": [
    "### Mall Customers"
   ]
  },
  {
   "cell_type": "code",
   "execution_count": 59,
   "metadata": {},
   "outputs": [],
   "source": [
    "sql = 'select * from customers'"
   ]
  },
  {
   "cell_type": "code",
   "execution_count": 60,
   "metadata": {},
   "outputs": [],
   "source": [
    "# acquire mall customers data using the query:\n",
    "\n",
    "def get_mall_customers(sql):\n",
    "    url = get_db_url('mall_customers')\n",
    "    mall_df = pd.read_sql(sql, url, index_col='customer_id')\n",
    "    return mall_df"
   ]
  },
  {
   "cell_type": "code",
   "execution_count": 61,
   "metadata": {},
   "outputs": [],
   "source": [
    "# acquire data\n",
    "\n",
    "mall_df = get_mall_customers(sql)"
   ]
  },
  {
   "cell_type": "code",
   "execution_count": 62,
   "metadata": {},
   "outputs": [
    {
     "data": {
      "text/html": [
       "<div>\n",
       "<style scoped>\n",
       "    .dataframe tbody tr th:only-of-type {\n",
       "        vertical-align: middle;\n",
       "    }\n",
       "\n",
       "    .dataframe tbody tr th {\n",
       "        vertical-align: top;\n",
       "    }\n",
       "\n",
       "    .dataframe thead th {\n",
       "        text-align: right;\n",
       "    }\n",
       "</style>\n",
       "<table border=\"1\" class=\"dataframe\">\n",
       "  <thead>\n",
       "    <tr style=\"text-align: right;\">\n",
       "      <th></th>\n",
       "      <th>gender</th>\n",
       "      <th>age</th>\n",
       "      <th>annual_income</th>\n",
       "      <th>spending_score</th>\n",
       "    </tr>\n",
       "    <tr>\n",
       "      <th>customer_id</th>\n",
       "      <th></th>\n",
       "      <th></th>\n",
       "      <th></th>\n",
       "      <th></th>\n",
       "    </tr>\n",
       "  </thead>\n",
       "  <tbody>\n",
       "    <tr>\n",
       "      <th>1</th>\n",
       "      <td>Male</td>\n",
       "      <td>19</td>\n",
       "      <td>15</td>\n",
       "      <td>39</td>\n",
       "    </tr>\n",
       "    <tr>\n",
       "      <th>2</th>\n",
       "      <td>Male</td>\n",
       "      <td>21</td>\n",
       "      <td>15</td>\n",
       "      <td>81</td>\n",
       "    </tr>\n",
       "    <tr>\n",
       "      <th>3</th>\n",
       "      <td>Female</td>\n",
       "      <td>20</td>\n",
       "      <td>16</td>\n",
       "      <td>6</td>\n",
       "    </tr>\n",
       "    <tr>\n",
       "      <th>4</th>\n",
       "      <td>Female</td>\n",
       "      <td>23</td>\n",
       "      <td>16</td>\n",
       "      <td>77</td>\n",
       "    </tr>\n",
       "    <tr>\n",
       "      <th>5</th>\n",
       "      <td>Female</td>\n",
       "      <td>31</td>\n",
       "      <td>17</td>\n",
       "      <td>40</td>\n",
       "    </tr>\n",
       "  </tbody>\n",
       "</table>\n",
       "</div>"
      ],
      "text/plain": [
       "             gender  age  annual_income  spending_score\n",
       "customer_id                                            \n",
       "1              Male   19             15              39\n",
       "2              Male   21             15              81\n",
       "3            Female   20             16               6\n",
       "4            Female   23             16              77\n",
       "5            Female   31             17              40"
      ]
     },
     "execution_count": 62,
     "metadata": {},
     "output_type": "execute_result"
    }
   ],
   "source": [
    "mall_df.head()"
   ]
  },
  {
   "cell_type": "code",
   "execution_count": 63,
   "metadata": {},
   "outputs": [
    {
     "name": "stdout",
     "output_type": "stream",
     "text": [
      "<class 'pandas.core.frame.DataFrame'>\n",
      "Int64Index: 200 entries, 1 to 200\n",
      "Data columns (total 4 columns):\n",
      " #   Column          Non-Null Count  Dtype \n",
      "---  ------          --------------  ----- \n",
      " 0   gender          200 non-null    object\n",
      " 1   age             200 non-null    int64 \n",
      " 2   annual_income   200 non-null    int64 \n",
      " 3   spending_score  200 non-null    int64 \n",
      "dtypes: int64(3), object(1)\n",
      "memory usage: 7.8+ KB\n"
     ]
    }
   ],
   "source": [
    "mall_df.info()"
   ]
  },
  {
   "cell_type": "code",
   "execution_count": 64,
   "metadata": {},
   "outputs": [
    {
     "data": {
      "text/plain": [
       "(200, 4)"
      ]
     },
     "execution_count": 64,
     "metadata": {},
     "output_type": "execute_result"
    }
   ],
   "source": [
    "mall_df.shape"
   ]
  },
  {
   "cell_type": "code",
   "execution_count": 65,
   "metadata": {},
   "outputs": [
    {
     "data": {
      "text/html": [
       "<div>\n",
       "<style scoped>\n",
       "    .dataframe tbody tr th:only-of-type {\n",
       "        vertical-align: middle;\n",
       "    }\n",
       "\n",
       "    .dataframe tbody tr th {\n",
       "        vertical-align: top;\n",
       "    }\n",
       "\n",
       "    .dataframe thead th {\n",
       "        text-align: right;\n",
       "    }\n",
       "</style>\n",
       "<table border=\"1\" class=\"dataframe\">\n",
       "  <thead>\n",
       "    <tr style=\"text-align: right;\">\n",
       "      <th></th>\n",
       "      <th>age</th>\n",
       "      <th>annual_income</th>\n",
       "      <th>spending_score</th>\n",
       "    </tr>\n",
       "  </thead>\n",
       "  <tbody>\n",
       "    <tr>\n",
       "      <th>count</th>\n",
       "      <td>200.000000</td>\n",
       "      <td>200.000000</td>\n",
       "      <td>200.000000</td>\n",
       "    </tr>\n",
       "    <tr>\n",
       "      <th>mean</th>\n",
       "      <td>38.850000</td>\n",
       "      <td>60.560000</td>\n",
       "      <td>50.200000</td>\n",
       "    </tr>\n",
       "    <tr>\n",
       "      <th>std</th>\n",
       "      <td>13.969007</td>\n",
       "      <td>26.264721</td>\n",
       "      <td>25.823522</td>\n",
       "    </tr>\n",
       "    <tr>\n",
       "      <th>min</th>\n",
       "      <td>18.000000</td>\n",
       "      <td>15.000000</td>\n",
       "      <td>1.000000</td>\n",
       "    </tr>\n",
       "    <tr>\n",
       "      <th>25%</th>\n",
       "      <td>28.750000</td>\n",
       "      <td>41.500000</td>\n",
       "      <td>34.750000</td>\n",
       "    </tr>\n",
       "    <tr>\n",
       "      <th>50%</th>\n",
       "      <td>36.000000</td>\n",
       "      <td>61.500000</td>\n",
       "      <td>50.000000</td>\n",
       "    </tr>\n",
       "    <tr>\n",
       "      <th>75%</th>\n",
       "      <td>49.000000</td>\n",
       "      <td>78.000000</td>\n",
       "      <td>73.000000</td>\n",
       "    </tr>\n",
       "    <tr>\n",
       "      <th>max</th>\n",
       "      <td>70.000000</td>\n",
       "      <td>137.000000</td>\n",
       "      <td>99.000000</td>\n",
       "    </tr>\n",
       "  </tbody>\n",
       "</table>\n",
       "</div>"
      ],
      "text/plain": [
       "              age  annual_income  spending_score\n",
       "count  200.000000     200.000000      200.000000\n",
       "mean    38.850000      60.560000       50.200000\n",
       "std     13.969007      26.264721       25.823522\n",
       "min     18.000000      15.000000        1.000000\n",
       "25%     28.750000      41.500000       34.750000\n",
       "50%     36.000000      61.500000       50.000000\n",
       "75%     49.000000      78.000000       73.000000\n",
       "max     70.000000     137.000000       99.000000"
      ]
     },
     "execution_count": 65,
     "metadata": {},
     "output_type": "execute_result"
    }
   ],
   "source": [
    "mall_df.describe()"
   ]
  },
  {
   "cell_type": "code",
   "execution_count": 66,
   "metadata": {},
   "outputs": [
    {
     "data": {
      "text/plain": [
       "gender            0\n",
       "age               0\n",
       "annual_income     0\n",
       "spending_score    0\n",
       "dtype: int64"
      ]
     },
     "execution_count": 66,
     "metadata": {},
     "output_type": "execute_result"
    }
   ],
   "source": [
    "mall_df.isnull().sum()"
   ]
  },
  {
   "cell_type": "code",
   "execution_count": 67,
   "metadata": {},
   "outputs": [
    {
     "data": {
      "text/plain": [
       "Female    112\n",
       "Male       88\n",
       "Name: gender, dtype: int64"
      ]
     },
     "execution_count": 67,
     "metadata": {},
     "output_type": "execute_result"
    }
   ],
   "source": [
    "mall_df.gender.value_counts()"
   ]
  },
  {
   "cell_type": "code",
   "execution_count": 68,
   "metadata": {},
   "outputs": [
    {
     "data": {
      "image/png": "[encoded data removed]",
      "text/plain": [
       "<Figure size 1728x720 with 4 Axes>"
      ]
     },
     "metadata": {
      "needs_background": "light"
     },
     "output_type": "display_data"
    }
   ],
   "source": [
    "mall_df.hist(figsize=(24, 10), bins=20);"
   ]
  },
  {
   "cell_type": "code",
   "execution_count": 69,
   "metadata": {},
   "outputs": [
    {
     "data": {
      "text/plain": [
       "<AxesSubplot:ylabel='spending_score'>"
      ]
     },
     "execution_count": 69,
     "metadata": {},
     "output_type": "execute_result"
    },
    {
     "data": {
      "image/png": "[encoded data removed]",
      "text/plain": [
       "<Figure size 864x576 with 3 Axes>"
      ]
     },
     "metadata": {
      "needs_background": "light"
     },
     "output_type": "display_data"
    }
   ],
   "source": [
    "# visualize outliers using boxplots:\n",
    "\n",
    "plt.figure(figsize = (12,8))\n",
    "plt.subplot(221)\n",
    "sns.boxplot(y = mall_df.age)\n",
    "\n",
    "plt.subplot(222)\n",
    "sns.boxplot(y = mall_df.annual_income)\n",
    "\n",
    "plt.subplot(223)\n",
    "sns.boxplot(y = mall_df.spending_score)"
   ]
  },
  {
   "cell_type": "markdown",
   "metadata": {},
   "source": [
    "Seems like we have only few outliers based on income column"
   ]
  },
  {
   "cell_type": "code",
   "execution_count": 70,
   "metadata": {},
   "outputs": [
    {
     "data": {
      "text/plain": [
       "132.75"
      ]
     },
     "execution_count": 70,
     "metadata": {},
     "output_type": "execute_result"
    }
   ],
   "source": [
    "# Calculate q1, q3 and iqr for income\n",
    "\n",
    "q1 = mall_df.annual_income.quantile(0.25)\n",
    "q3 = mall_df.annual_income.quantile(0.75)\n",
    "iqr = q3 - q1\n",
    "k = 1.5\n",
    "\n",
    "# calculate upper and lower ranges\n",
    "upper_bound_income =  q3 + k * iqr\n",
    "lower_bound_income =  q1 - k * iqr\n",
    "\n",
    "upper_bound_income"
   ]
  },
  {
   "cell_type": "code",
   "execution_count": 71,
   "metadata": {},
   "outputs": [
    {
     "data": {
      "text/html": [
       "<div>\n",
       "<style scoped>\n",
       "    .dataframe tbody tr th:only-of-type {\n",
       "        vertical-align: middle;\n",
       "    }\n",
       "\n",
       "    .dataframe tbody tr th {\n",
       "        vertical-align: top;\n",
       "    }\n",
       "\n",
       "    .dataframe thead th {\n",
       "        text-align: right;\n",
       "    }\n",
       "</style>\n",
       "<table border=\"1\" class=\"dataframe\">\n",
       "  <thead>\n",
       "    <tr style=\"text-align: right;\">\n",
       "      <th></th>\n",
       "      <th>gender</th>\n",
       "      <th>age</th>\n",
       "      <th>annual_income</th>\n",
       "      <th>spending_score</th>\n",
       "    </tr>\n",
       "    <tr>\n",
       "      <th>customer_id</th>\n",
       "      <th></th>\n",
       "      <th></th>\n",
       "      <th></th>\n",
       "      <th></th>\n",
       "    </tr>\n",
       "  </thead>\n",
       "  <tbody>\n",
       "    <tr>\n",
       "      <th>199</th>\n",
       "      <td>Male</td>\n",
       "      <td>32</td>\n",
       "      <td>137</td>\n",
       "      <td>18</td>\n",
       "    </tr>\n",
       "    <tr>\n",
       "      <th>200</th>\n",
       "      <td>Male</td>\n",
       "      <td>30</td>\n",
       "      <td>137</td>\n",
       "      <td>83</td>\n",
       "    </tr>\n",
       "  </tbody>\n",
       "</table>\n",
       "</div>"
      ],
      "text/plain": [
       "            gender  age  annual_income  spending_score\n",
       "customer_id                                           \n",
       "199           Male   32            137              18\n",
       "200           Male   30            137              83"
      ]
     },
     "execution_count": 71,
     "metadata": {},
     "output_type": "execute_result"
    }
   ],
   "source": [
    "mall_df[mall_df.annual_income > upper_bound_income]"
   ]
  },
  {
   "cell_type": "code",
   "execution_count": 72,
   "metadata": {},
   "outputs": [],
   "source": [
    "# function to detect and eliminate outliers using IQR rule\n",
    "\n",
    "def outlier_function(df, cols, k):\n",
    "    for col in df[cols]:\n",
    "        q1 = mall_df.annual_income.quantile(0.25)\n",
    "        q3 = mall_df.annual_income.quantile(0.75)\n",
    "        iqr = q3 - q1\n",
    "        upper_bound =  q3 + k * iqr\n",
    "        lower_bound =  q1 - k * iqr     \n",
    "        df = df[(df[col] < upper_bound) & (df[col] > lower_bound)]\n",
    "    return df"
   ]
  },
  {
   "cell_type": "code",
   "execution_count": 73,
   "metadata": {
    "scrolled": true
   },
   "outputs": [
    {
     "data": {
      "text/plain": [
       "(198, 4)"
      ]
     },
     "execution_count": 73,
     "metadata": {},
     "output_type": "execute_result"
    }
   ],
   "source": [
    "# use the outlier function defined above to handle outliers in numeric columns. k = 1.5\n",
    "\n",
    "mall_df = outlier_function(mall_df, ['age', 'spending_score', 'annual_income'], 1.5)\n",
    "mall_df.shape"
   ]
  },
  {
   "cell_type": "code",
   "execution_count": 74,
   "metadata": {},
   "outputs": [
    {
     "data": {
      "text/html": [
       "<div>\n",
       "<style scoped>\n",
       "    .dataframe tbody tr th:only-of-type {\n",
       "        vertical-align: middle;\n",
       "    }\n",
       "\n",
       "    .dataframe tbody tr th {\n",
       "        vertical-align: top;\n",
       "    }\n",
       "\n",
       "    .dataframe thead th {\n",
       "        text-align: right;\n",
       "    }\n",
       "</style>\n",
       "<table border=\"1\" class=\"dataframe\">\n",
       "  <thead>\n",
       "    <tr style=\"text-align: right;\">\n",
       "      <th></th>\n",
       "      <th>gender</th>\n",
       "      <th>age</th>\n",
       "      <th>annual_income</th>\n",
       "      <th>spending_score</th>\n",
       "    </tr>\n",
       "    <tr>\n",
       "      <th>customer_id</th>\n",
       "      <th></th>\n",
       "      <th></th>\n",
       "      <th></th>\n",
       "      <th></th>\n",
       "    </tr>\n",
       "  </thead>\n",
       "  <tbody>\n",
       "    <tr>\n",
       "      <th>1</th>\n",
       "      <td>Male</td>\n",
       "      <td>19</td>\n",
       "      <td>15</td>\n",
       "      <td>39</td>\n",
       "    </tr>\n",
       "    <tr>\n",
       "      <th>2</th>\n",
       "      <td>Male</td>\n",
       "      <td>21</td>\n",
       "      <td>15</td>\n",
       "      <td>81</td>\n",
       "    </tr>\n",
       "    <tr>\n",
       "      <th>3</th>\n",
       "      <td>Female</td>\n",
       "      <td>20</td>\n",
       "      <td>16</td>\n",
       "      <td>6</td>\n",
       "    </tr>\n",
       "    <tr>\n",
       "      <th>4</th>\n",
       "      <td>Female</td>\n",
       "      <td>23</td>\n",
       "      <td>16</td>\n",
       "      <td>77</td>\n",
       "    </tr>\n",
       "    <tr>\n",
       "      <th>5</th>\n",
       "      <td>Female</td>\n",
       "      <td>31</td>\n",
       "      <td>17</td>\n",
       "      <td>40</td>\n",
       "    </tr>\n",
       "  </tbody>\n",
       "</table>\n",
       "</div>"
      ],
      "text/plain": [
       "             gender  age  annual_income  spending_score\n",
       "customer_id                                            \n",
       "1              Male   19             15              39\n",
       "2              Male   21             15              81\n",
       "3            Female   20             16               6\n",
       "4            Female   23             16              77\n",
       "5            Female   31             17              40"
      ]
     },
     "execution_count": 74,
     "metadata": {},
     "output_type": "execute_result"
    }
   ],
   "source": [
    "mall_df.head()"
   ]
  },
  {
   "cell_type": "markdown",
   "metadata": {},
   "source": [
    "Encode categorical columns using a one hot encoder (pd.get_dummies)."
   ]
  },
  {
   "cell_type": "code",
   "execution_count": 75,
   "metadata": {},
   "outputs": [
    {
     "data": {
      "text/html": [
       "<div>\n",
       "<style scoped>\n",
       "    .dataframe tbody tr th:only-of-type {\n",
       "        vertical-align: middle;\n",
       "    }\n",
       "\n",
       "    .dataframe tbody tr th {\n",
       "        vertical-align: top;\n",
       "    }\n",
       "\n",
       "    .dataframe thead th {\n",
       "        text-align: right;\n",
       "    }\n",
       "</style>\n",
       "<table border=\"1\" class=\"dataframe\">\n",
       "  <thead>\n",
       "    <tr style=\"text-align: right;\">\n",
       "      <th></th>\n",
       "      <th>Male</th>\n",
       "    </tr>\n",
       "    <tr>\n",
       "      <th>customer_id</th>\n",
       "      <th></th>\n",
       "    </tr>\n",
       "  </thead>\n",
       "  <tbody>\n",
       "    <tr>\n",
       "      <th>1</th>\n",
       "      <td>1</td>\n",
       "    </tr>\n",
       "    <tr>\n",
       "      <th>2</th>\n",
       "      <td>1</td>\n",
       "    </tr>\n",
       "    <tr>\n",
       "      <th>3</th>\n",
       "      <td>0</td>\n",
       "    </tr>\n",
       "    <tr>\n",
       "      <th>4</th>\n",
       "      <td>0</td>\n",
       "    </tr>\n",
       "    <tr>\n",
       "      <th>5</th>\n",
       "      <td>0</td>\n",
       "    </tr>\n",
       "  </tbody>\n",
       "</table>\n",
       "</div>"
      ],
      "text/plain": [
       "             Male\n",
       "customer_id      \n",
       "1               1\n",
       "2               1\n",
       "3               0\n",
       "4               0\n",
       "5               0"
      ]
     },
     "execution_count": 75,
     "metadata": {},
     "output_type": "execute_result"
    }
   ],
   "source": [
    "# encode the gender column\n",
    "\n",
    "dummy_df = pd.get_dummies(mall_df.gender, drop_first=True)\n",
    "dummy_df.head()"
   ]
  },
  {
   "cell_type": "code",
   "execution_count": 76,
   "metadata": {},
   "outputs": [
    {
     "data": {
      "text/html": [
       "<div>\n",
       "<style scoped>\n",
       "    .dataframe tbody tr th:only-of-type {\n",
       "        vertical-align: middle;\n",
       "    }\n",
       "\n",
       "    .dataframe tbody tr th {\n",
       "        vertical-align: top;\n",
       "    }\n",
       "\n",
       "    .dataframe thead th {\n",
       "        text-align: right;\n",
       "    }\n",
       "</style>\n",
       "<table border=\"1\" class=\"dataframe\">\n",
       "  <thead>\n",
       "    <tr style=\"text-align: right;\">\n",
       "      <th></th>\n",
       "      <th>age</th>\n",
       "      <th>annual_income</th>\n",
       "      <th>spending_score</th>\n",
       "      <th>Male</th>\n",
       "    </tr>\n",
       "    <tr>\n",
       "      <th>customer_id</th>\n",
       "      <th></th>\n",
       "      <th></th>\n",
       "      <th></th>\n",
       "      <th></th>\n",
       "    </tr>\n",
       "  </thead>\n",
       "  <tbody>\n",
       "    <tr>\n",
       "      <th>1</th>\n",
       "      <td>19</td>\n",
       "      <td>15</td>\n",
       "      <td>39</td>\n",
       "      <td>1</td>\n",
       "    </tr>\n",
       "    <tr>\n",
       "      <th>2</th>\n",
       "      <td>21</td>\n",
       "      <td>15</td>\n",
       "      <td>81</td>\n",
       "      <td>1</td>\n",
       "    </tr>\n",
       "    <tr>\n",
       "      <th>3</th>\n",
       "      <td>20</td>\n",
       "      <td>16</td>\n",
       "      <td>6</td>\n",
       "      <td>0</td>\n",
       "    </tr>\n",
       "    <tr>\n",
       "      <th>4</th>\n",
       "      <td>23</td>\n",
       "      <td>16</td>\n",
       "      <td>77</td>\n",
       "      <td>0</td>\n",
       "    </tr>\n",
       "    <tr>\n",
       "      <th>5</th>\n",
       "      <td>31</td>\n",
       "      <td>17</td>\n",
       "      <td>40</td>\n",
       "      <td>0</td>\n",
       "    </tr>\n",
       "  </tbody>\n",
       "</table>\n",
       "</div>"
      ],
      "text/plain": [
       "             age  annual_income  spending_score  Male\n",
       "customer_id                                          \n",
       "1             19             15              39     1\n",
       "2             21             15              81     1\n",
       "3             20             16               6     0\n",
       "4             23             16              77     0\n",
       "5             31             17              40     0"
      ]
     },
     "execution_count": 76,
     "metadata": {},
     "output_type": "execute_result"
    }
   ],
   "source": [
    "# concat the dummies df with original df. Drop the 'gender' column\n",
    "\n",
    "mall_df = pd.concat([mall_df, dummy_df], axis=1).drop(columns = ['gender'])\n",
    "mall_df.head()"
   ]
  },
  {
   "cell_type": "markdown",
   "metadata": {},
   "source": [
    "#### Split data (train, validate, and test split).\n"
   ]
  },
  {
   "cell_type": "code",
   "execution_count": 77,
   "metadata": {},
   "outputs": [],
   "source": [
    "train, test = train_test_split(mall_df, train_size = 0.8, random_state = 123)\n",
    "train, validate = train_test_split(train, train_size = 0.75, random_state = 123)"
   ]
  },
  {
   "cell_type": "code",
   "execution_count": 78,
   "metadata": {},
   "outputs": [
    {
     "data": {
      "text/plain": [
       "((118, 4), (40, 4), (40, 4))"
      ]
     },
     "execution_count": 78,
     "metadata": {},
     "output_type": "execute_result"
    }
   ],
   "source": [
    "# check shape\n",
    "train.shape, validate.shape, test.shape"
   ]
  },
  {
   "cell_type": "markdown",
   "metadata": {},
   "source": [
    "#### Scaling numeric columns"
   ]
  },
  {
   "cell_type": "code",
   "execution_count": 79,
   "metadata": {},
   "outputs": [
    {
     "data": {
      "text/html": [
       "<div>\n",
       "<style scoped>\n",
       "    .dataframe tbody tr th:only-of-type {\n",
       "        vertical-align: middle;\n",
       "    }\n",
       "\n",
       "    .dataframe tbody tr th {\n",
       "        vertical-align: top;\n",
       "    }\n",
       "\n",
       "    .dataframe thead th {\n",
       "        text-align: right;\n",
       "    }\n",
       "</style>\n",
       "<table border=\"1\" class=\"dataframe\">\n",
       "  <thead>\n",
       "    <tr style=\"text-align: right;\">\n",
       "      <th></th>\n",
       "      <th>age</th>\n",
       "      <th>annual_income</th>\n",
       "      <th>spending_score</th>\n",
       "      <th>Male</th>\n",
       "    </tr>\n",
       "    <tr>\n",
       "      <th>customer_id</th>\n",
       "      <th></th>\n",
       "      <th></th>\n",
       "      <th></th>\n",
       "      <th></th>\n",
       "    </tr>\n",
       "  </thead>\n",
       "  <tbody>\n",
       "    <tr>\n",
       "      <th>182</th>\n",
       "      <td>32</td>\n",
       "      <td>97</td>\n",
       "      <td>86</td>\n",
       "      <td>0</td>\n",
       "    </tr>\n",
       "    <tr>\n",
       "      <th>49</th>\n",
       "      <td>29</td>\n",
       "      <td>40</td>\n",
       "      <td>42</td>\n",
       "      <td>0</td>\n",
       "    </tr>\n",
       "    <tr>\n",
       "      <th>35</th>\n",
       "      <td>49</td>\n",
       "      <td>33</td>\n",
       "      <td>14</td>\n",
       "      <td>0</td>\n",
       "    </tr>\n",
       "    <tr>\n",
       "      <th>186</th>\n",
       "      <td>30</td>\n",
       "      <td>99</td>\n",
       "      <td>97</td>\n",
       "      <td>1</td>\n",
       "    </tr>\n",
       "    <tr>\n",
       "      <th>114</th>\n",
       "      <td>19</td>\n",
       "      <td>64</td>\n",
       "      <td>46</td>\n",
       "      <td>1</td>\n",
       "    </tr>\n",
       "  </tbody>\n",
       "</table>\n",
       "</div>"
      ],
      "text/plain": [
       "             age  annual_income  spending_score  Male\n",
       "customer_id                                          \n",
       "182           32             97              86     0\n",
       "49            29             40              42     0\n",
       "35            49             33              14     0\n",
       "186           30             99              97     1\n",
       "114           19             64              46     1"
      ]
     },
     "execution_count": 79,
     "metadata": {},
     "output_type": "execute_result"
    }
   ],
   "source": [
    "train.head()"
   ]
  },
  {
   "cell_type": "code",
   "execution_count": 80,
   "metadata": {},
   "outputs": [],
   "source": [
    "def min_max_scaler(train, valid, test):\n",
    "    '''\n",
    "    Uses the train & test datasets created by the split_my_data function\n",
    "    Returns 3 items: mm_scaler, train_scaled_mm, test_scaled_mm\n",
    "    This is a linear transformation. Values will lie between 0 and 1\n",
    "    '''\n",
    "    num_vars = list(train.select_dtypes('number').columns)\n",
    "    scaler = MinMaxScaler(copy=True, feature_range=(0,1))\n",
    "    train[num_vars] = scaler.fit_transform(train[num_vars])\n",
    "    valid[num_vars] = scaler.transform(valid[num_vars])\n",
    "    test[num_vars] = scaler.transform(test[num_vars])\n",
    "    return scaler, train, valid, test"
   ]
  },
  {
   "cell_type": "code",
   "execution_count": 81,
   "metadata": {},
   "outputs": [
    {
     "data": {
      "text/plain": [
       "Index(['age', 'annual_income', 'spending_score', 'Male'], dtype='object')"
      ]
     },
     "execution_count": 81,
     "metadata": {},
     "output_type": "execute_result"
    }
   ],
   "source": [
    "train.select_dtypes('number').columns"
   ]
  },
  {
   "cell_type": "code",
   "execution_count": 82,
   "metadata": {},
   "outputs": [],
   "source": [
    "# use the scaler\n",
    "scaler, train_scaled, validate_scaled, test_scaled = min_max_scaler(train, validate, test)"
   ]
  },
  {
   "cell_type": "code",
   "execution_count": 83,
   "metadata": {},
   "outputs": [
    {
     "data": {
      "text/html": [
       "<div>\n",
       "<style scoped>\n",
       "    .dataframe tbody tr th:only-of-type {\n",
       "        vertical-align: middle;\n",
       "    }\n",
       "\n",
       "    .dataframe tbody tr th {\n",
       "        vertical-align: top;\n",
       "    }\n",
       "\n",
       "    .dataframe thead th {\n",
       "        text-align: right;\n",
       "    }\n",
       "</style>\n",
       "<table border=\"1\" class=\"dataframe\">\n",
       "  <thead>\n",
       "    <tr style=\"text-align: right;\">\n",
       "      <th></th>\n",
       "      <th>age</th>\n",
       "      <th>annual_income</th>\n",
       "      <th>spending_score</th>\n",
       "      <th>Male</th>\n",
       "    </tr>\n",
       "    <tr>\n",
       "      <th>customer_id</th>\n",
       "      <th></th>\n",
       "      <th></th>\n",
       "      <th></th>\n",
       "      <th></th>\n",
       "    </tr>\n",
       "  </thead>\n",
       "  <tbody>\n",
       "    <tr>\n",
       "      <th>182</th>\n",
       "      <td>0.269231</td>\n",
       "      <td>0.738739</td>\n",
       "      <td>0.867347</td>\n",
       "      <td>0.0</td>\n",
       "    </tr>\n",
       "    <tr>\n",
       "      <th>49</th>\n",
       "      <td>0.211538</td>\n",
       "      <td>0.225225</td>\n",
       "      <td>0.418367</td>\n",
       "      <td>0.0</td>\n",
       "    </tr>\n",
       "    <tr>\n",
       "      <th>35</th>\n",
       "      <td>0.596154</td>\n",
       "      <td>0.162162</td>\n",
       "      <td>0.132653</td>\n",
       "      <td>0.0</td>\n",
       "    </tr>\n",
       "    <tr>\n",
       "      <th>186</th>\n",
       "      <td>0.230769</td>\n",
       "      <td>0.756757</td>\n",
       "      <td>0.979592</td>\n",
       "      <td>1.0</td>\n",
       "    </tr>\n",
       "    <tr>\n",
       "      <th>114</th>\n",
       "      <td>0.019231</td>\n",
       "      <td>0.441441</td>\n",
       "      <td>0.459184</td>\n",
       "      <td>1.0</td>\n",
       "    </tr>\n",
       "  </tbody>\n",
       "</table>\n",
       "</div>"
      ],
      "text/plain": [
       "                  age  annual_income  spending_score  Male\n",
       "customer_id                                               \n",
       "182          0.269231       0.738739        0.867347   0.0\n",
       "49           0.211538       0.225225        0.418367   0.0\n",
       "35           0.596154       0.162162        0.132653   0.0\n",
       "186          0.230769       0.756757        0.979592   1.0\n",
       "114          0.019231       0.441441        0.459184   1.0"
      ]
     },
     "execution_count": 83,
     "metadata": {},
     "output_type": "execute_result"
    }
   ],
   "source": [
    "train_scaled.head()"
   ]
  },
  {
   "cell_type": "code",
   "execution_count": 84,
   "metadata": {},
   "outputs": [],
   "source": [
    "# Write a master wrangle fuction which acquires and prepares the data\n",
    "\n",
    "def wrangle_mall_df():\n",
    "    \n",
    "    # acquire data\n",
    "    sql = 'select * from customers'\n",
    "    mall_df = get_mall_customers(sql)\n",
    "    \n",
    "    # handle outliers\n",
    "    mall_df = outlier_function(mall_df, ['age', 'spending_score', 'annual_income'], 1.5)\n",
    "    \n",
    "    # get dummy for gender column\n",
    "    dummy_df = pd.get_dummies(mall_df.gender, drop_first=True)\n",
    "    mall_df = pd.concat([mall_df, dummy_df], axis=1).drop(columns = ['gender'])\n",
    "    mall_df.rename(columns= {'Male': 'is_male'}, inplace = True)\n",
    "\n",
    "    # split the data in train, validate and test\n",
    "    train, test = train_test_split(mall_df, train_size = 0.8, random_state = 123)\n",
    "    train, validate = train_test_split(train, train_size = 0.75, random_state = 123)\n",
    "    \n",
    "    return min_max_scaler, train, validate, test"
   ]
  },
  {
   "cell_type": "code",
   "execution_count": 85,
   "metadata": {},
   "outputs": [],
   "source": [
    "# use the wrangle function:\n",
    "\n",
    "scaler, train, validate, test = wrangle_mall_df()"
   ]
  },
  {
   "cell_type": "code",
   "execution_count": 86,
   "metadata": {},
   "outputs": [],
   "source": [
    "#scaled the values\n",
    "scaler, train_scaled, validate_scaled, test_scaled = min_max_scaler(train, validate, test)"
   ]
  },
  {
   "cell_type": "code",
   "execution_count": 87,
   "metadata": {},
   "outputs": [
    {
     "data": {
      "text/html": [
       "<div>\n",
       "<style scoped>\n",
       "    .dataframe tbody tr th:only-of-type {\n",
       "        vertical-align: middle;\n",
       "    }\n",
       "\n",
       "    .dataframe tbody tr th {\n",
       "        vertical-align: top;\n",
       "    }\n",
       "\n",
       "    .dataframe thead th {\n",
       "        text-align: right;\n",
       "    }\n",
       "</style>\n",
       "<table border=\"1\" class=\"dataframe\">\n",
       "  <thead>\n",
       "    <tr style=\"text-align: right;\">\n",
       "      <th></th>\n",
       "      <th>age</th>\n",
       "      <th>annual_income</th>\n",
       "      <th>spending_score</th>\n",
       "      <th>is_male</th>\n",
       "    </tr>\n",
       "    <tr>\n",
       "      <th>customer_id</th>\n",
       "      <th></th>\n",
       "      <th></th>\n",
       "      <th></th>\n",
       "      <th></th>\n",
       "    </tr>\n",
       "  </thead>\n",
       "  <tbody>\n",
       "    <tr>\n",
       "      <th>182</th>\n",
       "      <td>0.269231</td>\n",
       "      <td>0.738739</td>\n",
       "      <td>0.867347</td>\n",
       "      <td>0.0</td>\n",
       "    </tr>\n",
       "    <tr>\n",
       "      <th>49</th>\n",
       "      <td>0.211538</td>\n",
       "      <td>0.225225</td>\n",
       "      <td>0.418367</td>\n",
       "      <td>0.0</td>\n",
       "    </tr>\n",
       "    <tr>\n",
       "      <th>35</th>\n",
       "      <td>0.596154</td>\n",
       "      <td>0.162162</td>\n",
       "      <td>0.132653</td>\n",
       "      <td>0.0</td>\n",
       "    </tr>\n",
       "  </tbody>\n",
       "</table>\n",
       "</div>"
      ],
      "text/plain": [
       "                  age  annual_income  spending_score  is_male\n",
       "customer_id                                                  \n",
       "182          0.269231       0.738739        0.867347      0.0\n",
       "49           0.211538       0.225225        0.418367      0.0\n",
       "35           0.596154       0.162162        0.132653      0.0"
      ]
     },
     "execution_count": 87,
     "metadata": {},
     "output_type": "execute_result"
    }
   ],
   "source": [
    "train_scaled.head(3)"
   ]
  },
  {
   "cell_type": "code",
   "execution_count": null,
   "metadata": {},
   "outputs": [],
   "source": []
  }
 ],
 "metadata": {
  "kernelspec": {
   "display_name": "Python 3",
   "language": "python",
   "name": "python3"
  },
  "language_info": {
   "codemirror_mode": {
    "name": "ipython",
    "version": 3
   },
   "file_extension": ".py",
   "mimetype": "text/x-python",
   "name": "python",
   "nbconvert_exporter": "python",
   "pygments_lexer": "ipython3",
   "version": "3.8.5"
  }
 },
 "nbformat": 4,
 "nbformat_minor": 4
}
