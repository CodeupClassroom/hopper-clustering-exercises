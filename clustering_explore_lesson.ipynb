{
 "cells": [
  {
   "cell_type": "markdown",
   "metadata": {},
   "source": [
    "# Exploratory Analysis\n",
    "\n",
    "**Sample Scenario**\n",
    "\n",
    "We would like to be able to use attributes of customers to estimate their spending score.\n",
    "In doing so, we can target those customers that are likely to be most profitable.\n",
    "\n",
    "Our target variable is spending_score.\n",
    "Currently the only customer data we have available to use in this project is age, annual_income and gender.\n",
    "It is possible we may not have enough information to build a valuable model. If not, maybe we could do some unsupervised learning, and find clusters of similar customers using all of the variables (including spending_score) and that could help us with a starting point for our targeted marketing."
   ]
  },
  {
   "cell_type": "markdown",
   "metadata": {},
   "source": [
    "## Wrangle Data "
   ]
  },
  {
   "cell_type": "code",
   "execution_count": null,
   "metadata": {},
   "outputs": [],
   "source": [
    "# ignore warnings\n",
    "import warnings\n",
    "warnings.filterwarnings(\"ignore\")\n",
    "\n",
    "# Wrangling\n",
    "import pandas as pd\n",
    "import numpy as np\n",
    "from sklearn.model_selection import train_test_split\n",
    "\n",
    "# Statistical Tests\n",
    "import scipy.stats as stats\n",
    "\n",
    "# Visualizing\n",
    "import matplotlib.pyplot as plt\n",
    "from matplotlib import cm\n",
    "import seaborn as sns\n",
    "from sklearn.model_selection import learning_curve\n",
    "\n",
    "import wrangle"
   ]
  },
  {
   "cell_type": "code",
   "execution_count": null,
   "metadata": {},
   "outputs": [],
   "source": [
    "min_max_scaler, train, validate, test = wrangle.wrangle_mall_df()"
   ]
  },
  {
   "cell_type": "code",
   "execution_count": null,
   "metadata": {},
   "outputs": [],
   "source": [
    "df = train"
   ]
  },
  {
   "cell_type": "code",
   "execution_count": null,
   "metadata": {},
   "outputs": [],
   "source": [
    "df.head()"
   ]
  },
  {
   "cell_type": "code",
   "execution_count": null,
   "metadata": {},
   "outputs": [],
   "source": [
    "df.describe()"
   ]
  },
  {
   "cell_type": "markdown",
   "metadata": {},
   "source": [
    "NB. We'll explore unscaled, but scale before modeling."
   ]
  },
  {
   "cell_type": "markdown",
   "metadata": {},
   "source": [
    "## Answer Questions"
   ]
  },
  {
   "cell_type": "markdown",
   "metadata": {},
   "source": [
    "### What is the distribution of each of the variables?"
   ]
  },
  {
   "cell_type": "code",
   "execution_count": null,
   "metadata": {},
   "outputs": [],
   "source": [
    "fig, axs = plt.subplots(1, 3, figsize=(15, 7))\n",
    "\n",
    "for ax, col in zip(axs, df.select_dtypes('number')):\n",
    "    df[col].plot.hist(ax=ax, title=col, ec='black')"
   ]
  },
  {
   "cell_type": "code",
   "execution_count": null,
   "metadata": {},
   "outputs": [],
   "source": [
    "df.is_male.value_counts().plot.barh()\n",
    "plt.title('Distribution of Males (1) to Females (0)')\n",
    "plt.ylabel('is_male')\n",
    "plt.xlabel('Count')\n",
    "plt.show()"
   ]
  },
  {
   "cell_type": "markdown",
   "metadata": {},
   "source": [
    "**Takeaways:**\n",
    "\n",
    "- spending score is ~ normal\n",
    "- age + annual income have a long tail on the right -- i.e. they are *right skewed*\n",
    "- more female observations than male"
   ]
  },
  {
   "cell_type": "markdown",
   "metadata": {},
   "source": [
    "### Does spending score differ across gender?\n",
    "\n",
    "1. Viz gender against spending score\n",
    "1. Stats test to confirm"
   ]
  },
  {
   "cell_type": "code",
   "execution_count": null,
   "metadata": {},
   "outputs": [],
   "source": [
    "sns.violinplot(data=df, y='spending_score', x='is_male')\n",
    "plt.title('Violin distribution of gender and spending score')\n",
    "plt.show()"
   ]
  },
  {
   "cell_type": "code",
   "execution_count": null,
   "metadata": {},
   "outputs": [],
   "source": [
    "sns.boxplot(data=df, y='spending_score', x='is_male')\n",
    "plt.title(\"Is there a difference in spending score for male vs. female customers?\")\n",
    "plt.show()"
   ]
  },
  {
   "cell_type": "code",
   "execution_count": null,
   "metadata": {},
   "outputs": [],
   "source": [
    "sns.barplot(data=df, y='spending_score', x='is_male')\n",
    "plt.title(\"Is there a difference in spending score between males and females?\")\n",
    "plt.show()"
   ]
  },
  {
   "cell_type": "markdown",
   "metadata": {},
   "source": [
    "**Takeaways:**\n",
    "\n",
    "- Seems like there's not much difference in spending score."
   ]
  },
  {
   "cell_type": "markdown",
   "metadata": {},
   "source": [
    "T-test:\n",
    "\n",
    "- one-tailed or two-tailed? 2 tailed b/c we are looking for *any* difference in means\n",
    "- one-sample or two-sample? 2 sample b/c we're looking at the average spending score of 2 separate samples\n",
    "\n",
    "**Levene's Test**: test for equal variance\n",
    "\n",
    "- $H_0$: there is no difference in spending score variance between the two samples\n",
    "- $H_a$: there is a difference in spending score variance between the two samples"
   ]
  },
  {
   "cell_type": "code",
   "execution_count": null,
   "metadata": {},
   "outputs": [],
   "source": [
    "stats.levene(\n",
    "    df.query('is_male == 1').spending_score,\n",
    "    df.query('is_male == 0').spending_score,\n",
    ")"
   ]
  },
  {
   "cell_type": "markdown",
   "metadata": {},
   "source": [
    "A high pvalue (0.14) means we **fail to reject** the null hypothesis."
   ]
  },
  {
   "cell_type": "code",
   "execution_count": null,
   "metadata": {},
   "outputs": [],
   "source": [
    "stats.ttest_ind(\n",
    "    df.query('is_male == 1').spending_score,\n",
    "    df.query('is_male == 0').spending_score,\n",
    "    equal_var=True,\n",
    ")"
   ]
  },
  {
   "cell_type": "markdown",
   "metadata": {},
   "source": [
    "We conclude there is no significant difference in spending score between Males and Females (p = 0.755).\n",
    "\n",
    "What does `.query()` do?"
   ]
  },
  {
   "cell_type": "code",
   "execution_count": null,
   "metadata": {},
   "outputs": [],
   "source": [
    "df.query('is_male == 1').head()"
   ]
  },
  {
   "cell_type": "code",
   "execution_count": null,
   "metadata": {},
   "outputs": [],
   "source": [
    "df[df.is_male == 1].head()"
   ]
  },
  {
   "cell_type": "markdown",
   "metadata": {},
   "source": [
    "**Conclusion:**"
   ]
  },
  {
   "cell_type": "markdown",
   "metadata": {},
   "source": [
    "### Is there a relationship between spending score and annual income?\n",
    "\n",
    "1. Viz annual_income by spending_score\n",
    "2. Spearman's test if we want to confirm correlation (pearson's assumes normally distributed vars)"
   ]
  },
  {
   "cell_type": "code",
   "execution_count": null,
   "metadata": {},
   "outputs": [],
   "source": [
    "df.plot.scatter(\n",
    "    x=\"annual_income\",\n",
    "    y=\"spending_score\",\n",
    "    title='Is there a relationship between annual income and spending score?',\n",
    "    figsize=(8, 6),\n",
    ")\n",
    "plt.show()"
   ]
  },
  {
   "cell_type": "markdown",
   "metadata": {},
   "source": [
    "**Conclusion:**\n",
    "\n",
    "- not a linear relationship\n",
    "- looks like an \"X\"\n",
    "- looks like there might be clusters, the middle is very dense, the corners not so much"
   ]
  },
  {
   "cell_type": "code",
   "execution_count": null,
   "metadata": {},
   "outputs": [],
   "source": [
    "df.head()"
   ]
  },
  {
   "cell_type": "markdown",
   "metadata": {},
   "source": [
    "Is there a relationship between age and spending score?\n",
    "\n",
    "1. Viz age by spending_score. \n",
    "1. Create age bins and compare"
   ]
  },
  {
   "cell_type": "code",
   "execution_count": null,
   "metadata": {},
   "outputs": [],
   "source": [
    "df.plot.scatter(y='spending_score', x='age', title='Is there a relationship between age and spending score?', figsize=(13, 8))\n",
    "plt.show()"
   ]
  },
  {
   "cell_type": "markdown",
   "metadata": {},
   "source": [
    "**Takeaways:**\n",
    "\n",
    "- spending score trails off for older individuals\n",
    "- younger folks seem to have higher spending scores\n",
    "- after age ~ 40, max(spending score) decreases"
   ]
  },
  {
   "cell_type": "markdown",
   "metadata": {},
   "source": [
    "#### How does `pd.cut()` work?\n",
    "\n",
    "Suppose that we had an array:"
   ]
  },
  {
   "cell_type": "code",
   "execution_count": null,
   "metadata": {},
   "outputs": [],
   "source": [
    "x = pd.Series(range(1, 11))\n",
    "x"
   ]
  },
  {
   "cell_type": "markdown",
   "metadata": {},
   "source": [
    "We can pass that array to `pd.cut()` and define the bins with a list of values:"
   ]
  },
  {
   "cell_type": "code",
   "execution_count": null,
   "metadata": {},
   "outputs": [],
   "source": [
    "pd.cut(x, bins=[0, 7, 9, 11])"
   ]
  },
  {
   "cell_type": "markdown",
   "metadata": {},
   "source": [
    "When working with DataFrames, we can create a bin column quite easily using `pd.cut()`"
   ]
  },
  {
   "cell_type": "code",
   "execution_count": null,
   "metadata": {},
   "outputs": [],
   "source": [
    "df['age_bin'] = pd.cut(df.age, [0, 40, 80])\n",
    "df.head()"
   ]
  },
  {
   "cell_type": "markdown",
   "metadata": {},
   "source": [
    "Let's take a look at the distribution of those bins:"
   ]
  },
  {
   "cell_type": "code",
   "execution_count": null,
   "metadata": {},
   "outputs": [],
   "source": [
    "df.age_bin.value_counts().plot.barh(title='Distribution of age_bin')"
   ]
  },
  {
   "cell_type": "markdown",
   "metadata": {},
   "source": [
    "Looks like there were not any observations with an age above 80:"
   ]
  },
  {
   "cell_type": "code",
   "execution_count": null,
   "metadata": {},
   "outputs": [],
   "source": [
    "df.age.describe()"
   ]
  },
  {
   "cell_type": "markdown",
   "metadata": {},
   "source": [
    "Let's create a simple boxplot to visualize how spending score compares between these age bins:"
   ]
  },
  {
   "cell_type": "code",
   "execution_count": null,
   "metadata": {},
   "outputs": [],
   "source": [
    "sns.boxplot(data=df, y='spending_score', x='age_bin')\n",
    "plt.show()"
   ]
  },
  {
   "cell_type": "code",
   "execution_count": null,
   "metadata": {},
   "outputs": [],
   "source": [
    "#H0: Variances are equal\n",
    "#Ha: Variances are not equal\n",
    "\n",
    "stats.levene(\n",
    "    df[df.age <= 40].spending_score,\n",
    "    df[df.age > 40].spending_score,\n",
    ")"
   ]
  },
  {
   "cell_type": "markdown",
   "metadata": {},
   "source": [
    "**Conclusion:**\n",
    "\n",
    "Our p-value is less than our alpha, so we reject the null hypothesis that the variance in spending score is the same for folks less than or equal to 40 and above 40.\n",
    "\n",
    "(i.e. the variance is not equal)"
   ]
  },
  {
   "cell_type": "code",
   "execution_count": null,
   "metadata": {},
   "outputs": [],
   "source": [
    "stats.ttest_ind(\n",
    "    df[df.age <= 40].spending_score,\n",
    "    df[df.age > 40].spending_score,\n",
    "    equal_var=False,\n",
    ")"
   ]
  },
  {
   "cell_type": "markdown",
   "metadata": {},
   "source": [
    "**Conclusion:**\n",
    "\n",
    "We reject the null hypothesis that the average spending score for folks less than or equal to 40 is the same as the average spending score for folks over 40."
   ]
  },
  {
   "cell_type": "code",
   "execution_count": null,
   "metadata": {},
   "outputs": [],
   "source": [
    "df.head()"
   ]
  },
  {
   "cell_type": "markdown",
   "metadata": {},
   "source": [
    "Note that when we used `pd.cut()` we created a category object. This dtype follows its own set of rules."
   ]
  },
  {
   "cell_type": "code",
   "execution_count": null,
   "metadata": {},
   "outputs": [],
   "source": [
    "df.dtypes"
   ]
  },
  {
   "cell_type": "markdown",
   "metadata": {},
   "source": [
    "The values shown are not just strings. If we try to match using a string value, its not going to find it:"
   ]
  },
  {
   "cell_type": "code",
   "execution_count": null,
   "metadata": {},
   "outputs": [],
   "source": [
    "df[df.age_bin == '(0, 40]']"
   ]
  },
  {
   "cell_type": "markdown",
   "metadata": {},
   "source": [
    "Instead we have to use `pd.Interval()`:"
   ]
  },
  {
   "cell_type": "code",
   "execution_count": null,
   "metadata": {},
   "outputs": [],
   "source": [
    "df[df.age_bin == pd.Interval(0, 40)]"
   ]
  },
  {
   "cell_type": "markdown",
   "metadata": {},
   "source": [
    "But if we still have access to the original unbinned data, then its probably just more straightforward to use that:"
   ]
  },
  {
   "cell_type": "code",
   "execution_count": null,
   "metadata": {},
   "outputs": [],
   "source": [
    "df[df.age <= 40]"
   ]
  },
  {
   "cell_type": "markdown",
   "metadata": {},
   "source": [
    "### If we control for age, does spending score differ across annual income?\n",
    "\n",
    "1. Viz annual income by spending score for each age bin\n",
    "2. Analyze each age bin separately"
   ]
  },
  {
   "cell_type": "code",
   "execution_count": null,
   "metadata": {},
   "outputs": [],
   "source": [
    "sns.relplot(data=df, y='spending_score', x='annual_income', col='age_bin')"
   ]
  },
  {
   "cell_type": "markdown",
   "metadata": {},
   "source": [
    "**Takeaways:**\n",
    "\n",
    "- 0 through 40 group still has an x-shape\n",
    "- 40+ crowd is just the bottom half of the x"
   ]
  },
  {
   "cell_type": "code",
   "execution_count": null,
   "metadata": {},
   "outputs": [],
   "source": [
    "sns.relplot(\n",
    "    data=df,\n",
    "    y='spending_score',\n",
    "    x='annual_income',\n",
    "    col=pd.cut(df.age, bins=[0, 30, 40, 80]),\n",
    ")\n",
    "plt.suptitle(\"Do the different decades account for the upper vs lower extremes?\")\n",
    "plt.tight_layout()"
   ]
  },
  {
   "cell_type": "markdown",
   "metadata": {},
   "source": [
    "**Takeaways:**\n",
    "\n",
    "- 30-40 *almost* looks linear\n",
    "- 0-30 *almost* looks like a negative linear relationship\n",
    "- 40-80 looks quadratic"
   ]
  },
  {
   "cell_type": "code",
   "execution_count": null,
   "metadata": {},
   "outputs": [],
   "source": [
    "df.head()"
   ]
  },
  {
   "cell_type": "markdown",
   "metadata": {},
   "source": [
    "### Does gender explain the high income-low spending score and/or low income-low spending score in the under 40 group?"
   ]
  },
  {
   "cell_type": "code",
   "execution_count": null,
   "metadata": {},
   "outputs": [],
   "source": [
    "sns.scatterplot(\n",
    "    x='annual_income',\n",
    "    y='spending_score',\n",
    "    data=df[df.age <= 40],\n",
    "    hue='is_male',\n",
    ")\n",
    "plt.title(\"Does gender acccount for upper vs lower\\nin the younger age group?\")"
   ]
  },
  {
   "cell_type": "markdown",
   "metadata": {},
   "source": [
    "Aside: scatterplot vs relplot\n",
    "\n",
    "- scatter plot works with axes\n",
    "- relplot works with figures\n",
    "\n",
    "---\n",
    "\n",
    "- seaborn is built on top of matplotlib\n",
    "- every matplotlib axis lives within a figure\n",
    "- a figure can have 1 or more axes in it (2+ is when we have subplots)"
   ]
  },
  {
   "cell_type": "code",
   "execution_count": null,
   "metadata": {},
   "outputs": [],
   "source": [
    "df.age_bin.value_counts()"
   ]
  },
  {
   "cell_type": "code",
   "execution_count": null,
   "metadata": {},
   "outputs": [],
   "source": [
    "sns.relplot(\n",
    "    x='annual_income',\n",
    "    y='spending_score',\n",
    "    data=df,\n",
    "    hue='is_male',\n",
    "    col='age_bin',\n",
    ")\n",
    "print(\"Does gender acccount for upper vs lower in the younger age group?\\n\")\n",
    "plt.show()"
   ]
  },
  {
   "cell_type": "markdown",
   "metadata": {},
   "source": [
    "**Takeaways:**\n",
    "\n",
    "- gender isn't terribly informative in this context"
   ]
  },
  {
   "cell_type": "code",
   "execution_count": null,
   "metadata": {},
   "outputs": [],
   "source": [
    "df.head()"
   ]
  },
  {
   "cell_type": "markdown",
   "metadata": {},
   "source": [
    "### If we control for annual income, does spending score differ across age?\n",
    "\n",
    "Because of the shape of annual income with spending score, I will create 3 bins of income: \\[0, 40), \\[40, 70), \\[70, 140\\]. "
   ]
  },
  {
   "cell_type": "code",
   "execution_count": null,
   "metadata": {},
   "outputs": [],
   "source": [
    "ax = df.annual_income.plot.hist()\n",
    "ax.axvline(40, color='black')\n",
    "ax.axvline(70, color='black')"
   ]
  },
  {
   "cell_type": "code",
   "execution_count": null,
   "metadata": {},
   "outputs": [],
   "source": [
    "ax = df.annual_income.plot.hist()\n",
    "ax.axvline(40, color='black')\n",
    "ax.axvline(80, color='black')"
   ]
  },
  {
   "cell_type": "code",
   "execution_count": null,
   "metadata": {},
   "outputs": [],
   "source": [
    "df.head()"
   ]
  },
  {
   "cell_type": "code",
   "execution_count": null,
   "metadata": {},
   "outputs": [],
   "source": [
    "df['income_bin'] = pd.cut(df.annual_income, [0, 50, 80, 140])\n",
    "\n",
    "plt.figure(figsize=(13, 7))\n",
    "sns.scatterplot(\n",
    "    x='age',\n",
    "    y='spending_score',\n",
    "    data=df,\n",
    "    hue='income_bin',\n",
    ")\n",
    "plt.title(\"How does age compare to spending score\\nwithin each income bin?\")"
   ]
  },
  {
   "cell_type": "code",
   "execution_count": null,
   "metadata": {},
   "outputs": [],
   "source": [
    "df['income_bin'] = pd.cut(df.annual_income, [0, 40, 70, 140])\n",
    "\n",
    "plt.figure(figsize=(13, 7))\n",
    "sns.scatterplot(\n",
    "    x='age',\n",
    "    y='spending_score',\n",
    "    data=df,\n",
    "    hue='income_bin',\n",
    ")\n",
    "plt.title(\"How does age compare to spending score\\nwithin each income bin?\")"
   ]
  },
  {
   "cell_type": "markdown",
   "metadata": {},
   "source": [
    "**Takeaways:**"
   ]
  },
  {
   "cell_type": "markdown",
   "metadata": {},
   "source": [
    "## Summary"
   ]
  },
  {
   "cell_type": "markdown",
   "metadata": {},
   "source": [
    "- annual income and spending score are good candidates for clustering\n",
    "- older folks past some cutoff (40+) tend to not high values for spending score\n",
    "- theres a good number of younger folks (30-) with low incomes and high spending scores\n",
    "- gender didn't really seem to have an impact"
   ]
  }
 ],
 "metadata": {
  "kernelspec": {
   "display_name": "Python 3",
   "language": "python",
   "name": "python3"
  },
  "language_info": {
   "codemirror_mode": {
    "name": "ipython",
    "version": 3
   },
   "file_extension": ".py",
   "mimetype": "text/x-python",
   "name": "python",
   "nbconvert_exporter": "python",
   "pygments_lexer": "ipython3",
   "version": "3.8.8"
  },
  "toc": {
   "base_numbering": 1,
   "nav_menu": {},
   "number_sections": false,
   "sideBar": false,
   "skip_h1_title": false,
   "title_cell": "Table of Contents",
   "title_sidebar": "Contents",
   "toc_cell": false,
   "toc_position": {},
   "toc_section_display": false,
   "toc_window_display": false
  }
 },
 "nbformat": 4,
 "nbformat_minor": 4
}
