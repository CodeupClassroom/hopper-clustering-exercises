{
 "cells": [
  {
   "cell_type": "code",
   "execution_count": null,
   "metadata": {},
   "outputs": [],
   "source": [
    "import warnings\n",
    "warnings.filterwarnings(\"ignore\")\n",
    "\n",
    "import pandas as pd\n",
    "import numpy as np\n",
    "\n",
    "import matplotlib.pyplot as plt\n",
    "from matplotlib import cm\n",
    "import seaborn as sns\n",
    "\n",
    "# custom visuals for this lesson\n",
    "import viz_kmeans\n",
    "\n",
    "# supress scientific notation\n",
    "np.set_printoptions(suppress=True)\n",
    "\n",
    "from sklearn.cluster import KMeans"
   ]
  },
  {
   "cell_type": "markdown",
   "metadata": {},
   "source": [
    "### Introduction: K-Means clustering algorithm\n",
    "- Unsupervised Algorithm\n",
    "- Search for a pre-determined number of clusters within an unlabeled dataset \n",
    "- k = number of clusters (user specified)\n",
    "- Distance based"
   ]
  },
  {
   "cell_type": "markdown",
   "metadata": {},
   "source": [
    "### How K-means algorithm works:\n",
    "\n",
    "Step 1:  Randomly choose k starting centers\n",
    "\n",
    "Step 2: **Cluster Assignment:**  \n",
    "        Assign each observation to nearest Center (based on distance). Observations assigned to a center are part of a cluster.  \n",
    "     \n",
    "Step 3: **Move Centeroids:**  \n",
    "Recalculate new centroids location (mean of observations within a cluster).  \n",
    "\n",
    "Step 4+: Keep repeating step 2 and 3 until centers do not move."
   ]
  },
  {
   "cell_type": "code",
   "execution_count": null,
   "metadata": {},
   "outputs": [],
   "source": [
    "# visualize some data \n",
    "viz_kmeans.make_blob()"
   ]
  },
  {
   "cell_type": "markdown",
   "metadata": {},
   "source": [
    "### Visualization: \n",
    "\n",
    "K-means visuals (Slideshow): \n",
    "https://docs.google.com/presentation/d/1NtMLd4fp2pi_bDJiIg2O-5g48xJiXjtYFad42B6Pj6Q/edit?usp=sharing\n",
    "\n",
    "Animation (Thanks Zach!): https://stats-demos.zach.wiki/static/kmeans_clustering.mp4"
   ]
  },
  {
   "cell_type": "markdown",
   "metadata": {},
   "source": [
    "### Sklearn implementation"
   ]
  },
  {
   "cell_type": "code",
   "execution_count": null,
   "metadata": {},
   "outputs": [],
   "source": [
    "from pydataset import data\n",
    "\n",
    "# import data\n",
    "iris = data('iris')\n",
    "iris.head()"
   ]
  },
  {
   "cell_type": "code",
   "execution_count": null,
   "metadata": {},
   "outputs": [],
   "source": [
    "# rename columns\n",
    "\n",
    "iris.columns = ['sepal_length', 'sepal_width', 'petal_length', 'petal_width',\n",
    "       'species']\n",
    "\n",
    "iris.head()"
   ]
  },
  {
   "cell_type": "code",
   "execution_count": null,
   "metadata": {},
   "outputs": [],
   "source": [
    "# define independent variables for k-means\n",
    "\n",
    "X = iris[['sepal_length', 'petal_length']]\n",
    "X.head()"
   ]
  },
  {
   "cell_type": "code",
   "execution_count": null,
   "metadata": {},
   "outputs": [],
   "source": [
    "# look at distribution of sepal length and petal_length\n",
    "\n",
    "X.hist();"
   ]
  },
  {
   "cell_type": "code",
   "execution_count": null,
   "metadata": {},
   "outputs": [],
   "source": [
    "# Scale the X\n",
    "\n",
    "from sklearn.preprocessing import StandardScaler\n",
    "\n",
    "scaler = StandardScaler().fit(X)\n",
    "X_scaled = pd.DataFrame(scaler.transform(X), columns= X.columns).set_index([X.index.values])"
   ]
  },
  {
   "cell_type": "code",
   "execution_count": null,
   "metadata": {},
   "outputs": [],
   "source": [
    "# look at the head\n",
    "X_scaled.head()"
   ]
  },
  {
   "cell_type": "code",
   "execution_count": null,
   "metadata": {},
   "outputs": [],
   "source": [
    "# sklearn implementation of KMeans\n",
    "\n",
    "#define the thing\n",
    "kmeans = KMeans(n_clusters=3, random_state = 123)\n",
    "\n",
    "# fit the thing\n",
    "kmeans.fit(X_scaled)\n",
    "\n",
    "# Use (predict using) the thing \n",
    "kmeans.predict(X_scaled)"
   ]
  },
  {
   "cell_type": "code",
   "execution_count": null,
   "metadata": {},
   "outputs": [],
   "source": [
    "# make a new column names cluster in iris and X_scaled dataframe\n",
    "\n",
    "iris['cluster'] = kmeans.predict(X_scaled)\n",
    "\n",
    "X_scaled['cluster'] = kmeans.predict(X_scaled)"
   ]
  },
  {
   "cell_type": "code",
   "execution_count": null,
   "metadata": {},
   "outputs": [],
   "source": [
    "# lets look at sample of 15 randomly selected rows in iris dataset\n",
    "\n",
    "iris.sample(15)"
   ]
  },
  {
   "cell_type": "code",
   "execution_count": null,
   "metadata": {},
   "outputs": [],
   "source": [
    "# Visualize the scatter plot for Actual vs predicted (K-Means)\n",
    "viz_kmeans.viz_iris(iris, kmeans)"
   ]
  },
  {
   "cell_type": "markdown",
   "metadata": {},
   "source": [
    "### Attributes for Kmeans : \n",
    "\n",
    "- cluster_centers_: The center point of each cluster (aka centroids).\n",
    "\n",
    "- labels_: The labels for each observation.\n",
    "\n",
    "- inertia_: Sum of squared distances of samples to their closest cluster center."
   ]
  },
  {
   "cell_type": "code",
   "execution_count": null,
   "metadata": {},
   "outputs": [],
   "source": [
    "# Cluster Centers aka centroids. The output is scaled!!\n",
    "\n",
    "kmeans.cluster_centers_"
   ]
  },
  {
   "cell_type": "code",
   "execution_count": null,
   "metadata": {},
   "outputs": [],
   "source": [
    "# Make a dataframe \n",
    "centroids_scaled = pd.DataFrame(kmeans.cluster_centers_, columns = X.columns)\n",
    "centroids_scaled"
   ]
  },
  {
   "cell_type": "code",
   "execution_count": null,
   "metadata": {},
   "outputs": [],
   "source": [
    "# Centriods for unscaled data?\n",
    "# centroids = iris.groupby('cluster')['sepal_length', 'petal_length'].mean()\n",
    "# centroids"
   ]
  },
  {
   "cell_type": "code",
   "execution_count": null,
   "metadata": {},
   "outputs": [],
   "source": [
    "# How to get unscaled centroids?\n",
    "\n",
    "scaler.inverse_transform(kmeans.cluster_centers_)"
   ]
  },
  {
   "cell_type": "code",
   "execution_count": null,
   "metadata": {},
   "outputs": [],
   "source": [
    "# Labels (same as from predict)\n",
    "\n",
    "kmeans.labels_"
   ]
  },
  {
   "cell_type": "code",
   "execution_count": null,
   "metadata": {},
   "outputs": [],
   "source": [
    "# lets visualize the clusters along with the centers on scaled data.\n",
    "\n",
    "plt.figure(figsize=(14, 9))\n",
    "\n",
    "# scatter plot of data with hue for cluster\n",
    "sns.scatterplot(x = 'petal_length', y ='sepal_length', data = X_scaled, hue = 'cluster')\n",
    "\n",
    "# plot cluster centers (centroids)\n",
    "centroids_scaled.plot.scatter(x = 'petal_length', y = 'sepal_length',\n",
    "                             ax = plt.gca(),\n",
    "                             s= 800,\n",
    "                             color = 'k',\n",
    "                             alpha = 0.3,\n",
    "                             label = 'centroids')\n",
    "\n",
    "plt.title('Visualizing Cluster Centers')\n",
    "plt.legend();"
   ]
  },
  {
   "cell_type": "code",
   "execution_count": null,
   "metadata": {},
   "outputs": [],
   "source": [
    "iris.head()"
   ]
  },
  {
   "cell_type": "code",
   "execution_count": null,
   "metadata": {},
   "outputs": [],
   "source": [
    "# to avoid Seaborn 'hue' issue with integers, I change the cluster columns from integer to string\n",
    "iris['cluster'] = 'cluster_' + iris.cluster.astype(str)\n",
    "iris.head()"
   ]
  },
  {
   "cell_type": "code",
   "execution_count": null,
   "metadata": {},
   "outputs": [],
   "source": [
    "# lets visualize the clusters along with the centers on unscaled data\n",
    "plt.figure(figsize=(14, 9))\n",
    "\n",
    "# scatter plot of data with hue for cluster\n",
    "sns.scatterplot(x = 'petal_length', y ='sepal_length', data = iris, hue = 'cluster')\n",
    "\n",
    "\n",
    "# plot cluster centers (centroids)\n",
    "centroids.plot.scatter(x = 'petal_length', y = 'sepal_length',\n",
    "                             ax = plt.gca(),\n",
    "                             s= 800,\n",
    "                             color = 'k',\n",
    "                             alpha = 0.3,\n",
    "                             label = 'centroids')\n",
    "plt.title('Visualizing Cluster Centers')\n",
    "plt.legend();"
   ]
  },
  {
   "cell_type": "markdown",
   "metadata": {},
   "source": [
    "### Look at two clusters (i.e k = 2)"
   ]
  },
  {
   "cell_type": "code",
   "execution_count": null,
   "metadata": {},
   "outputs": [],
   "source": [
    "X = iris[['petal_length', 'sepal_length']]\n",
    "from sklearn.preprocessing import StandardScaler\n",
    "\n",
    "scaler = StandardScaler().fit(X)\n",
    "X_scaled = pd.DataFrame(scaler.transform(X), columns= X.columns).set_index([X.index.values])"
   ]
  },
  {
   "cell_type": "code",
   "execution_count": null,
   "metadata": {},
   "outputs": [],
   "source": [
    "# lets look at two clusters (i.e k = 2)\n",
    "\n",
    "kmeans = KMeans(n_clusters = 2)\n",
    "kmeans.fit(X_scaled)\n",
    "X_scaled['cluster'] = kmeans.predict(X_scaled)\n",
    "sns.scatterplot(x='petal_length', y='sepal_length', data = X_scaled, hue = 'cluster')"
   ]
  },
  {
   "cell_type": "markdown",
   "metadata": {},
   "source": [
    "## How to choose 'k'\n",
    "\n",
    "#### A-*priori* knowledge about application domain/educated guess\n",
    "-  How many five different types of bacteria in the world (k = 5)\n",
    "- There are two different kinds of people in world (k = 2)\n",
    "\n",
    "#### Search for a 'good' k value\n",
    "- Try different k values and evaluate results\n",
    "    - Inertia = sum of squared distances from each point to it's assigned centroid  \n",
    "    - minimize inertia(?)\n",
    "    - Use elbow method (using inertia) to choose k\n",
    "\n",
    "#### Use hierarchical clustering\n",
    "- Try on a subset of data and guess k"
   ]
  },
  {
   "cell_type": "code",
   "execution_count": null,
   "metadata": {},
   "outputs": [],
   "source": [
    "# kmeans object has 'interia' attribute\n",
    "kmeans.inertia_"
   ]
  },
  {
   "cell_type": "code",
   "execution_count": null,
   "metadata": {},
   "outputs": [],
   "source": [
    "X = iris[['petal_length', 'sepal_length']]\n",
    "from sklearn.preprocessing import StandardScaler\n",
    "scaler = StandardScaler().fit(X)\n",
    "X_scaled = pd.DataFrame(scaler.transform(X), columns= X.columns).set_index([X.index.values])\n",
    "\n",
    "k =2 \n",
    "\n",
    "kmeans = KMeans(n_clusters= k)\n",
    "kmeans.fit(X_scaled)\n",
    "kmeans.inertia_"
   ]
  },
  {
   "cell_type": "code",
   "execution_count": null,
   "metadata": {},
   "outputs": [],
   "source": [
    "# interia with k = 3\n",
    "k =3\n",
    "\n",
    "kmeans = KMeans(n_clusters= k)\n",
    "kmeans.fit(X_scaled)\n",
    "kmeans.inertia_"
   ]
  },
  {
   "cell_type": "code",
   "execution_count": null,
   "metadata": {},
   "outputs": [],
   "source": [
    "# interia with k = 4\n",
    "\n",
    "k =4\n",
    "\n",
    "kmeans = KMeans(n_clusters= k)\n",
    "kmeans.fit(X_scaled)\n",
    "kmeans.inertia_"
   ]
  },
  {
   "cell_type": "code",
   "execution_count": null,
   "metadata": {},
   "outputs": [],
   "source": [
    "# lets plot inertia vs k\n",
    "\n",
    "with plt.style.context('seaborn-whitegrid'):\n",
    "    plt.figure(figsize=(9, 6))\n",
    "    pd.Series({k: KMeans(k).fit(X_scaled).inertia_ for k in range(2, 12)}).plot(marker='x')\n",
    "    plt.xticks(range(2, 12))\n",
    "    plt.xlabel('k')\n",
    "    plt.ylabel('inertia')\n",
    "    plt.title('Change in inertia as k increases')"
   ]
  },
  {
   "cell_type": "code",
   "execution_count": null,
   "metadata": {
    "scrolled": false
   },
   "outputs": [],
   "source": [
    "# What value of k is appropriate?\n",
    "\n",
    "fig, axs = plt.subplots(2, 2, figsize=(13, 13), sharex=True, sharey=True)\n",
    "\n",
    "for ax, k in zip(axs.ravel(), range(2, 6)):\n",
    "    clusters = KMeans(k).fit(X_scaled).predict(X_scaled)\n",
    "    ax.scatter(X.sepal_length, X.petal_length, c=clusters)\n",
    "    ax.set(title='k = {}'.format(k), xlabel='sepal length', ylabel='petal length')"
   ]
  },
  {
   "cell_type": "code",
   "execution_count": null,
   "metadata": {},
   "outputs": [],
   "source": [
    "# Challenges:\n",
    "\n",
    "# Which features should I use to create clusters?\n",
    "# what k should I select?\n",
    "# Are clusters meaningful and provide any value?"
   ]
  },
  {
   "cell_type": "code",
   "execution_count": null,
   "metadata": {},
   "outputs": [],
   "source": []
  }
 ],
 "metadata": {
  "kernelspec": {
   "display_name": "Python 3",
   "language": "python",
   "name": "python3"
  },
  "language_info": {
   "codemirror_mode": {
    "name": "ipython",
    "version": 3
   },
   "file_extension": ".py",
   "mimetype": "text/x-python",
   "name": "python",
   "nbconvert_exporter": "python",
   "pygments_lexer": "ipython3",
   "version": "3.8.5"
  }
 },
 "nbformat": 4,
 "nbformat_minor": 4
}
